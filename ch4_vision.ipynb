{
 "cells": [
  {
   "cell_type": "markdown",
   "id": "112fbf2a",
   "metadata": {},
   "source": [
    "# 4.숫자 분류기\n",
    "## 4.1 픽셀\n",
    "### 데이터 읽기"
   ]
  },
  {
   "cell_type": "code",
   "execution_count": 1,
   "id": "e17f8309",
   "metadata": {},
   "outputs": [],
   "source": [
    "from fastai.vision.all import *\n",
    "import matplotlib.pyplot as plt"
   ]
  },
  {
   "cell_type": "code",
   "execution_count": 2,
   "id": "da8d066b",
   "metadata": {},
   "outputs": [
    {
     "data": {
      "text/html": [
       "\n",
       "    <div>\n",
       "        <style>\n",
       "            /* Turns off some styling */\n",
       "            progress {\n",
       "                /* gets rid of default border in Firefox and Opera. */\n",
       "                border: none;\n",
       "                /* Needs to be in here for Safari polyfill so background images work as expected. */\n",
       "                background-size: auto;\n",
       "            }\n",
       "            .progress-bar-interrupted, .progress-bar-interrupted::-webkit-progress-bar {\n",
       "                background: #F44336;\n",
       "            }\n",
       "        </style>\n",
       "      <progress value='3219456' class='' max='3214948' style='width:300px; height:20px; vertical-align: middle;'></progress>\n",
       "      100.14% [3219456/3214948 00:01<00:00]\n",
       "    </div>\n",
       "    "
      ],
      "text/plain": [
       "<IPython.core.display.HTML object>"
      ]
     },
     "metadata": {},
     "output_type": "display_data"
    },
    {
     "data": {
      "text/plain": [
       "(#3) [Path('/root/.fastai/data/mnist_sample/train'),Path('/root/.fastai/data/mnist_sample/labels.csv'),Path('/root/.fastai/data/mnist_sample/valid')]"
      ]
     },
     "execution_count": 2,
     "metadata": {},
     "output_type": "execute_result"
    }
   ],
   "source": [
    "path = untar_data(URLs.MNIST_SAMPLE)\n",
    "path.ls() # reture L class which is customed list(python built-in function) by fast.ai"
   ]
  },
  {
   "cell_type": "code",
   "execution_count": 3,
   "id": "e58ea474",
   "metadata": {},
   "outputs": [
    {
     "data": {
      "text/plain": [
       "(#2) [Path('/root/.fastai/data/mnist_sample/train/3'),Path('/root/.fastai/data/mnist_sample/train/7')]"
      ]
     },
     "execution_count": 3,
     "metadata": {},
     "output_type": "execute_result"
    }
   ],
   "source": [
    "(path/\"train\").ls() # 3 and 7"
   ]
  },
  {
   "cell_type": "code",
   "execution_count": 4,
   "id": "682b572e",
   "metadata": {},
   "outputs": [
    {
     "data": {
      "text/plain": [
       "(#6131) [Path('/root/.fastai/data/mnist_sample/train/3/10.png'),Path('/root/.fastai/data/mnist_sample/train/3/10000.png'),Path('/root/.fastai/data/mnist_sample/train/3/10011.png'),Path('/root/.fastai/data/mnist_sample/train/3/10031.png'),Path('/root/.fastai/data/mnist_sample/train/3/10034.png'),Path('/root/.fastai/data/mnist_sample/train/3/10042.png'),Path('/root/.fastai/data/mnist_sample/train/3/10052.png'),Path('/root/.fastai/data/mnist_sample/train/3/1007.png'),Path('/root/.fastai/data/mnist_sample/train/3/10074.png'),Path('/root/.fastai/data/mnist_sample/train/3/10091.png')...]"
      ]
     },
     "execution_count": 4,
     "metadata": {},
     "output_type": "execute_result"
    }
   ],
   "source": [
    "threes = (path/\"train\"/\"3\").ls().sorted()  # 숫자 3 이미지들\n",
    "sevens = (path/\"train\"/\"7\").ls().sorted()  # 숫자 7 이미지들\n",
    "\n",
    "threes"
   ]
  },
  {
   "cell_type": "markdown",
   "id": "23452087",
   "metadata": {},
   "source": [
    "### 이미지"
   ]
  },
  {
   "cell_type": "code",
   "execution_count": 5,
   "id": "65b3c9f4",
   "metadata": {},
   "outputs": [
    {
     "data": {
      "image/png": "[encoded data removed]",
      "text/plain": [
       "<PIL.PngImagePlugin.PngImageFile image mode=L size=28x28 at 0x7F9A75545810>"
      ]
     },
     "execution_count": 5,
     "metadata": {},
     "output_type": "execute_result"
    }
   ],
   "source": [
    "im3_path = threes[1]\n",
    "im3 = Image.open(im3_path)\n",
    "im3 # using PIL(python Imaging Library)"
   ]
  },
  {
   "cell_type": "code",
   "execution_count": 6,
   "id": "3e1401e0",
   "metadata": {},
   "outputs": [
    {
     "data": {
      "text/plain": [
       "array([[  0,   0,   0,   0,   0,   0],\n",
       "       [  0,   0,   0,   0,   0,  29],\n",
       "       [  0,   0,   0,  48, 166, 224],\n",
       "       [  0,  93, 244, 249, 253, 187],\n",
       "       [  0, 107, 253, 253, 230,  48],\n",
       "       [  0,   3,  20,  20,  15,   0]], dtype=uint8)"
      ]
     },
     "execution_count": 6,
     "metadata": {},
     "output_type": "execute_result"
    }
   ],
   "source": [
    "array(im3)[4:10, 4:10]"
   ]
  },
  {
   "cell_type": "code",
   "execution_count": 7,
   "id": "5370f055",
   "metadata": {},
   "outputs": [
    {
     "data": {
      "text/plain": [
       "tensor([[  0,   0,   0,   0,   0,   0],\n",
       "        [  0,   0,   0,   0,   0,  29],\n",
       "        [  0,   0,   0,  48, 166, 224],\n",
       "        [  0,  93, 244, 249, 253, 187],\n",
       "        [  0, 107, 253, 253, 230,  48],\n",
       "        [  0,   3,  20,  20,  15,   0]], dtype=torch.uint8)"
      ]
     },
     "execution_count": 7,
     "metadata": {},
     "output_type": "execute_result"
    }
   ],
   "source": [
    "tensor(im3)[4:10, 4:10]"
   ]
  },
  {
   "cell_type": "code",
   "execution_count": 8,
   "id": "f4d0c1d1",
   "metadata": {},
   "outputs": [
    {
     "data": {
      "text/html": [
       "<style type=\"text/css\">\n",
       "#T_2dca4_row0_col0, #T_2dca4_row0_col1, #T_2dca4_row0_col2, #T_2dca4_row0_col3, #T_2dca4_row0_col4, #T_2dca4_row0_col5, #T_2dca4_row0_col6, #T_2dca4_row0_col7, #T_2dca4_row0_col8, #T_2dca4_row0_col9, #T_2dca4_row0_col10, #T_2dca4_row0_col11, #T_2dca4_row0_col12, #T_2dca4_row0_col13, #T_2dca4_row0_col14, #T_2dca4_row0_col15, #T_2dca4_row0_col16, #T_2dca4_row0_col17, #T_2dca4_row0_col18, #T_2dca4_row0_col19, #T_2dca4_row0_col20, #T_2dca4_row0_col21, #T_2dca4_row0_col22, #T_2dca4_row0_col23, #T_2dca4_row0_col24, #T_2dca4_row0_col25, #T_2dca4_row0_col26, #T_2dca4_row0_col27, #T_2dca4_row1_col0, #T_2dca4_row1_col1, #T_2dca4_row1_col2, #T_2dca4_row1_col3, #T_2dca4_row1_col4, #T_2dca4_row1_col5, #T_2dca4_row1_col6, #T_2dca4_row1_col7, #T_2dca4_row1_col8, #T_2dca4_row1_col9, #T_2dca4_row1_col10, #T_2dca4_row1_col11, #T_2dca4_row1_col12, #T_2dca4_row1_col13, #T_2dca4_row1_col14, #T_2dca4_row1_col15, #T_2dca4_row1_col16, #T_2dca4_row1_col17, #T_2dca4_row1_col18, #T_2dca4_row1_col19, #T_2dca4_row1_col20, #T_2dca4_row1_col21, #T_2dca4_row1_col22, #T_2dca4_row1_col23, #T_2dca4_row1_col24, #T_2dca4_row1_col25, #T_2dca4_row1_col26, #T_2dca4_row1_col27, #T_2dca4_row2_col0, #T_2dca4_row2_col1, #T_2dca4_row2_col2, #T_2dca4_row2_col3, #T_2dca4_row2_col4, #T_2dca4_row2_col5, #T_2dca4_row2_col6, #T_2dca4_row2_col7, #T_2dca4_row2_col8, #T_2dca4_row2_col9, #T_2dca4_row2_col10, #T_2dca4_row2_col11, #T_2dca4_row2_col12, #T_2dca4_row2_col13, #T_2dca4_row2_col14, #T_2dca4_row2_col15, #T_2dca4_row2_col16, #T_2dca4_row2_col17, #T_2dca4_row2_col18, #T_2dca4_row2_col19, #T_2dca4_row2_col20, #T_2dca4_row2_col21, #T_2dca4_row2_col22, #T_2dca4_row2_col23, #T_2dca4_row2_col24, #T_2dca4_row2_col25, #T_2dca4_row2_col26, #T_2dca4_row2_col27, #T_2dca4_row3_col0, #T_2dca4_row3_col1, #T_2dca4_row3_col2, #T_2dca4_row3_col3, #T_2dca4_row3_col4, #T_2dca4_row3_col5, #T_2dca4_row3_col6, #T_2dca4_row3_col7, #T_2dca4_row3_col8, #T_2dca4_row3_col9, #T_2dca4_row3_col10, #T_2dca4_row3_col11, #T_2dca4_row3_col12, #T_2dca4_row3_col13, #T_2dca4_row3_col14, #T_2dca4_row3_col15, #T_2dca4_row3_col16, #T_2dca4_row3_col17, #T_2dca4_row3_col18, #T_2dca4_row3_col19, #T_2dca4_row3_col20, #T_2dca4_row3_col21, #T_2dca4_row3_col22, #T_2dca4_row3_col23, #T_2dca4_row3_col24, #T_2dca4_row3_col25, #T_2dca4_row3_col26, #T_2dca4_row3_col27, #T_2dca4_row4_col0, #T_2dca4_row4_col1, #T_2dca4_row4_col2, #T_2dca4_row4_col3, #T_2dca4_row4_col4, #T_2dca4_row4_col5, #T_2dca4_row4_col6, #T_2dca4_row4_col7, #T_2dca4_row4_col8, #T_2dca4_row4_col9, #T_2dca4_row4_col10, #T_2dca4_row4_col11, #T_2dca4_row4_col12, #T_2dca4_row4_col13, #T_2dca4_row4_col14, #T_2dca4_row4_col15, #T_2dca4_row4_col16, #T_2dca4_row4_col17, #T_2dca4_row4_col18, #T_2dca4_row4_col19, #T_2dca4_row4_col20, #T_2dca4_row4_col21, #T_2dca4_row4_col22, #T_2dca4_row4_col23, #T_2dca4_row4_col24, #T_2dca4_row4_col25, #T_2dca4_row4_col26, #T_2dca4_row4_col27, #T_2dca4_row5_col0, #T_2dca4_row5_col1, #T_2dca4_row5_col2, #T_2dca4_row5_col3, #T_2dca4_row5_col4, #T_2dca4_row5_col5, #T_2dca4_row5_col6, #T_2dca4_row5_col7, #T_2dca4_row5_col8, #T_2dca4_row5_col19, #T_2dca4_row5_col20, #T_2dca4_row5_col21, #T_2dca4_row5_col22, #T_2dca4_row5_col23, #T_2dca4_row5_col24, #T_2dca4_row5_col25, #T_2dca4_row5_col26, #T_2dca4_row5_col27, #T_2dca4_row6_col0, #T_2dca4_row6_col1, #T_2dca4_row6_col2, #T_2dca4_row6_col3, #T_2dca4_row6_col4, #T_2dca4_row6_col5, #T_2dca4_row6_col6, #T_2dca4_row6_col19, #T_2dca4_row6_col20, #T_2dca4_row6_col21, #T_2dca4_row6_col22, #T_2dca4_row6_col23, #T_2dca4_row6_col24, #T_2dca4_row6_col25, #T_2dca4_row6_col26, #T_2dca4_row6_col27, #T_2dca4_row7_col0, #T_2dca4_row7_col1, #T_2dca4_row7_col2, #T_2dca4_row7_col3, #T_2dca4_row7_col4, #T_2dca4_row7_col19, #T_2dca4_row7_col20, #T_2dca4_row7_col21, #T_2dca4_row7_col22, #T_2dca4_row7_col23, #T_2dca4_row7_col24, #T_2dca4_row7_col25, #T_2dca4_row7_col26, #T_2dca4_row7_col27, #T_2dca4_row8_col0, #T_2dca4_row8_col1, #T_2dca4_row8_col2, #T_2dca4_row8_col3, #T_2dca4_row8_col4, #T_2dca4_row8_col10, #T_2dca4_row8_col11, #T_2dca4_row8_col12, #T_2dca4_row8_col13, #T_2dca4_row8_col14, #T_2dca4_row8_col19, #T_2dca4_row8_col20, #T_2dca4_row8_col21, #T_2dca4_row8_col22, #T_2dca4_row8_col23, #T_2dca4_row8_col24, #T_2dca4_row8_col25, #T_2dca4_row8_col26, #T_2dca4_row8_col27, #T_2dca4_row9_col0, #T_2dca4_row9_col1, #T_2dca4_row9_col2, #T_2dca4_row9_col3, #T_2dca4_row9_col4, #T_2dca4_row9_col9, #T_2dca4_row9_col10, #T_2dca4_row9_col11, #T_2dca4_row9_col12, #T_2dca4_row9_col13, #T_2dca4_row9_col19, #T_2dca4_row9_col20, #T_2dca4_row9_col21, #T_2dca4_row9_col22, #T_2dca4_row9_col23, #T_2dca4_row9_col24, #T_2dca4_row9_col25, #T_2dca4_row9_col26, #T_2dca4_row9_col27, #T_2dca4_row10_col0, #T_2dca4_row10_col1, #T_2dca4_row10_col2, #T_2dca4_row10_col3, #T_2dca4_row10_col4, #T_2dca4_row10_col5, #T_2dca4_row10_col6, #T_2dca4_row10_col7, #T_2dca4_row10_col8, #T_2dca4_row10_col9, #T_2dca4_row10_col10, #T_2dca4_row10_col11, #T_2dca4_row10_col12, #T_2dca4_row10_col13, #T_2dca4_row10_col18, #T_2dca4_row10_col19, #T_2dca4_row10_col20, #T_2dca4_row10_col21, #T_2dca4_row10_col22, #T_2dca4_row10_col23, #T_2dca4_row10_col24, #T_2dca4_row10_col25, #T_2dca4_row10_col26, #T_2dca4_row10_col27, #T_2dca4_row11_col0, #T_2dca4_row11_col1, #T_2dca4_row11_col2, #T_2dca4_row11_col3, #T_2dca4_row11_col4, #T_2dca4_row11_col5, #T_2dca4_row11_col6, #T_2dca4_row11_col7, #T_2dca4_row11_col8, #T_2dca4_row11_col9, #T_2dca4_row11_col10, #T_2dca4_row11_col17, #T_2dca4_row11_col18, #T_2dca4_row11_col19, #T_2dca4_row11_col20, #T_2dca4_row11_col21, #T_2dca4_row11_col22, #T_2dca4_row11_col23, #T_2dca4_row11_col24, #T_2dca4_row11_col25, #T_2dca4_row11_col26, #T_2dca4_row11_col27, #T_2dca4_row12_col0, #T_2dca4_row12_col1, #T_2dca4_row12_col2, #T_2dca4_row12_col3, #T_2dca4_row12_col4, #T_2dca4_row12_col5, #T_2dca4_row12_col6, #T_2dca4_row12_col7, #T_2dca4_row12_col8, #T_2dca4_row12_col17, #T_2dca4_row12_col18, #T_2dca4_row12_col19, #T_2dca4_row12_col20, #T_2dca4_row12_col21, #T_2dca4_row12_col22, #T_2dca4_row12_col23, #T_2dca4_row12_col24, #T_2dca4_row12_col25, #T_2dca4_row12_col26, #T_2dca4_row12_col27, #T_2dca4_row13_col0, #T_2dca4_row13_col1, #T_2dca4_row13_col2, #T_2dca4_row13_col3, #T_2dca4_row13_col4, #T_2dca4_row13_col5, #T_2dca4_row13_col6, #T_2dca4_row13_col7, #T_2dca4_row13_col8, #T_2dca4_row13_col20, #T_2dca4_row13_col21, #T_2dca4_row13_col22, #T_2dca4_row13_col23, #T_2dca4_row13_col24, #T_2dca4_row13_col25, #T_2dca4_row13_col26, #T_2dca4_row13_col27, #T_2dca4_row14_col0, #T_2dca4_row14_col1, #T_2dca4_row14_col2, #T_2dca4_row14_col3, #T_2dca4_row14_col4, #T_2dca4_row14_col5, #T_2dca4_row14_col6, #T_2dca4_row14_col7, #T_2dca4_row14_col8, #T_2dca4_row14_col9, #T_2dca4_row14_col10, #T_2dca4_row14_col21, #T_2dca4_row14_col22, #T_2dca4_row14_col23, #T_2dca4_row14_col24, #T_2dca4_row14_col25, #T_2dca4_row14_col26, #T_2dca4_row14_col27, #T_2dca4_row15_col0, #T_2dca4_row15_col1, #T_2dca4_row15_col2, #T_2dca4_row15_col3, #T_2dca4_row15_col4, #T_2dca4_row15_col5, #T_2dca4_row15_col6, #T_2dca4_row15_col7, #T_2dca4_row15_col8, #T_2dca4_row15_col9, #T_2dca4_row15_col10, #T_2dca4_row15_col11, #T_2dca4_row15_col12, #T_2dca4_row15_col13, #T_2dca4_row15_col21, #T_2dca4_row15_col22, #T_2dca4_row15_col23, #T_2dca4_row15_col24, #T_2dca4_row15_col25, #T_2dca4_row15_col26, #T_2dca4_row15_col27, #T_2dca4_row16_col0, #T_2dca4_row16_col1, #T_2dca4_row16_col2, #T_2dca4_row16_col3, #T_2dca4_row16_col4, #T_2dca4_row16_col5, #T_2dca4_row16_col6, #T_2dca4_row16_col7, #T_2dca4_row16_col8, #T_2dca4_row16_col9, #T_2dca4_row16_col10, #T_2dca4_row16_col11, #T_2dca4_row16_col12, #T_2dca4_row16_col13, #T_2dca4_row16_col14, #T_2dca4_row16_col15, #T_2dca4_row16_col16, #T_2dca4_row16_col21, #T_2dca4_row16_col22, #T_2dca4_row16_col23, #T_2dca4_row16_col24, #T_2dca4_row16_col25, #T_2dca4_row16_col26, #T_2dca4_row16_col27, #T_2dca4_row17_col0, #T_2dca4_row17_col1, #T_2dca4_row17_col2, #T_2dca4_row17_col3, #T_2dca4_row17_col4, #T_2dca4_row17_col5, #T_2dca4_row17_col6, #T_2dca4_row17_col7, #T_2dca4_row17_col8, #T_2dca4_row17_col9, #T_2dca4_row17_col10, #T_2dca4_row17_col11, #T_2dca4_row17_col12, #T_2dca4_row17_col13, #T_2dca4_row17_col14, #T_2dca4_row17_col15, #T_2dca4_row17_col16, #T_2dca4_row17_col21, #T_2dca4_row17_col22, #T_2dca4_row17_col23, #T_2dca4_row17_col24, #T_2dca4_row17_col25, #T_2dca4_row17_col26, #T_2dca4_row17_col27, #T_2dca4_row18_col0, #T_2dca4_row18_col1, #T_2dca4_row18_col2, #T_2dca4_row18_col3, #T_2dca4_row18_col4, #T_2dca4_row18_col5, #T_2dca4_row18_col6, #T_2dca4_row18_col7, #T_2dca4_row18_col8, #T_2dca4_row18_col9, #T_2dca4_row18_col10, #T_2dca4_row18_col11, #T_2dca4_row18_col12, #T_2dca4_row18_col13, #T_2dca4_row18_col14, #T_2dca4_row18_col15, #T_2dca4_row18_col21, #T_2dca4_row18_col22, #T_2dca4_row18_col23, #T_2dca4_row18_col24, #T_2dca4_row18_col25, #T_2dca4_row18_col26, #T_2dca4_row18_col27, #T_2dca4_row19_col0, #T_2dca4_row19_col1, #T_2dca4_row19_col2, #T_2dca4_row19_col3, #T_2dca4_row19_col4, #T_2dca4_row19_col5, #T_2dca4_row19_col6, #T_2dca4_row19_col7, #T_2dca4_row19_col8, #T_2dca4_row19_col9, #T_2dca4_row19_col10, #T_2dca4_row19_col11, #T_2dca4_row19_col12, #T_2dca4_row19_col13, #T_2dca4_row19_col14, #T_2dca4_row19_col21, #T_2dca4_row19_col22, #T_2dca4_row19_col23, #T_2dca4_row19_col24, #T_2dca4_row19_col25, #T_2dca4_row19_col26, #T_2dca4_row19_col27, #T_2dca4_row20_col0, #T_2dca4_row20_col1, #T_2dca4_row20_col2, #T_2dca4_row20_col3, #T_2dca4_row20_col4, #T_2dca4_row20_col5, #T_2dca4_row20_col6, #T_2dca4_row20_col7, #T_2dca4_row20_col8, #T_2dca4_row20_col9, #T_2dca4_row20_col10, #T_2dca4_row20_col11, #T_2dca4_row20_col12, #T_2dca4_row20_col13, #T_2dca4_row20_col20, #T_2dca4_row20_col21, #T_2dca4_row20_col22, #T_2dca4_row20_col23, #T_2dca4_row20_col24, #T_2dca4_row20_col25, #T_2dca4_row20_col26, #T_2dca4_row20_col27, #T_2dca4_row21_col0, #T_2dca4_row21_col1, #T_2dca4_row21_col2, #T_2dca4_row21_col3, #T_2dca4_row21_col4, #T_2dca4_row21_col5, #T_2dca4_row21_col6, #T_2dca4_row21_col7, #T_2dca4_row21_col8, #T_2dca4_row21_col9, #T_2dca4_row21_col10, #T_2dca4_row21_col11, #T_2dca4_row21_col19, #T_2dca4_row21_col20, #T_2dca4_row21_col21, #T_2dca4_row21_col22, #T_2dca4_row21_col23, #T_2dca4_row21_col24, #T_2dca4_row21_col25, #T_2dca4_row21_col26, #T_2dca4_row21_col27, #T_2dca4_row22_col0, #T_2dca4_row22_col1, #T_2dca4_row22_col2, #T_2dca4_row22_col3, #T_2dca4_row22_col4, #T_2dca4_row22_col5, #T_2dca4_row22_col18, #T_2dca4_row22_col19, #T_2dca4_row22_col20, #T_2dca4_row22_col21, #T_2dca4_row22_col22, #T_2dca4_row22_col23, #T_2dca4_row22_col24, #T_2dca4_row22_col25, #T_2dca4_row22_col26, #T_2dca4_row22_col27, #T_2dca4_row23_col0, #T_2dca4_row23_col1, #T_2dca4_row23_col2, #T_2dca4_row23_col3, #T_2dca4_row23_col4, #T_2dca4_row23_col5, #T_2dca4_row23_col16, #T_2dca4_row23_col17, #T_2dca4_row23_col18, #T_2dca4_row23_col19, #T_2dca4_row23_col20, #T_2dca4_row23_col21, #T_2dca4_row23_col22, #T_2dca4_row23_col23, #T_2dca4_row23_col24, #T_2dca4_row23_col25, #T_2dca4_row23_col26, #T_2dca4_row23_col27, #T_2dca4_row24_col0, #T_2dca4_row24_col1, #T_2dca4_row24_col2, #T_2dca4_row24_col3, #T_2dca4_row24_col4, #T_2dca4_row24_col5, #T_2dca4_row24_col14, #T_2dca4_row24_col15, #T_2dca4_row24_col16, #T_2dca4_row24_col17, #T_2dca4_row24_col18, #T_2dca4_row24_col19, #T_2dca4_row24_col20, #T_2dca4_row24_col21, #T_2dca4_row24_col22, #T_2dca4_row24_col23, #T_2dca4_row24_col24, #T_2dca4_row24_col25, #T_2dca4_row24_col26, #T_2dca4_row24_col27, #T_2dca4_row25_col0, #T_2dca4_row25_col1, #T_2dca4_row25_col2, #T_2dca4_row25_col3, #T_2dca4_row25_col4, #T_2dca4_row25_col5, #T_2dca4_row25_col6, #T_2dca4_row25_col7, #T_2dca4_row25_col8, #T_2dca4_row25_col9, #T_2dca4_row25_col10, #T_2dca4_row25_col11, #T_2dca4_row25_col12, #T_2dca4_row25_col13, #T_2dca4_row25_col14, #T_2dca4_row25_col15, #T_2dca4_row25_col16, #T_2dca4_row25_col17, #T_2dca4_row25_col18, #T_2dca4_row25_col19, #T_2dca4_row25_col20, #T_2dca4_row25_col21, #T_2dca4_row25_col22, #T_2dca4_row25_col23, #T_2dca4_row25_col24, #T_2dca4_row25_col25, #T_2dca4_row25_col26, #T_2dca4_row25_col27, #T_2dca4_row26_col0, #T_2dca4_row26_col1, #T_2dca4_row26_col2, #T_2dca4_row26_col3, #T_2dca4_row26_col4, #T_2dca4_row26_col5, #T_2dca4_row26_col6, #T_2dca4_row26_col7, #T_2dca4_row26_col8, #T_2dca4_row26_col9, #T_2dca4_row26_col10, #T_2dca4_row26_col11, #T_2dca4_row26_col12, #T_2dca4_row26_col13, #T_2dca4_row26_col14, #T_2dca4_row26_col15, #T_2dca4_row26_col16, #T_2dca4_row26_col17, #T_2dca4_row26_col18, #T_2dca4_row26_col19, #T_2dca4_row26_col20, #T_2dca4_row26_col21, #T_2dca4_row26_col22, #T_2dca4_row26_col23, #T_2dca4_row26_col24, #T_2dca4_row26_col25, #T_2dca4_row26_col26, #T_2dca4_row26_col27, #T_2dca4_row27_col0, #T_2dca4_row27_col1, #T_2dca4_row27_col2, #T_2dca4_row27_col3, #T_2dca4_row27_col4, #T_2dca4_row27_col5, #T_2dca4_row27_col6, #T_2dca4_row27_col7, #T_2dca4_row27_col8, #T_2dca4_row27_col9, #T_2dca4_row27_col10, #T_2dca4_row27_col11, #T_2dca4_row27_col12, #T_2dca4_row27_col13, #T_2dca4_row27_col14, #T_2dca4_row27_col15, #T_2dca4_row27_col16, #T_2dca4_row27_col17, #T_2dca4_row27_col18, #T_2dca4_row27_col19, #T_2dca4_row27_col20, #T_2dca4_row27_col21, #T_2dca4_row27_col22, #T_2dca4_row27_col23, #T_2dca4_row27_col24, #T_2dca4_row27_col25, #T_2dca4_row27_col26, #T_2dca4_row27_col27 {\n",
       "  font-size: 6pt;\n",
       "  background-color: #ffffff;\n",
       "  color: #000000;\n",
       "}\n",
       "#T_2dca4_row5_col9, #T_2dca4_row12_col16 {\n",
       "  font-size: 6pt;\n",
       "  background-color: #f1f1f1;\n",
       "  color: #000000;\n",
       "}\n",
       "#T_2dca4_row5_col10, #T_2dca4_row5_col17 {\n",
       "  font-size: 6pt;\n",
       "  background-color: #7c7c7c;\n",
       "  color: #f1f1f1;\n",
       "}\n",
       "#T_2dca4_row5_col11 {\n",
       "  font-size: 6pt;\n",
       "  background-color: #4a4a4a;\n",
       "  color: #f1f1f1;\n",
       "}\n",
       "#T_2dca4_row5_col12, #T_2dca4_row5_col13, #T_2dca4_row5_col14, #T_2dca4_row6_col10, #T_2dca4_row6_col11, #T_2dca4_row6_col15, #T_2dca4_row6_col16, #T_2dca4_row6_col17, #T_2dca4_row7_col8, #T_2dca4_row7_col16, #T_2dca4_row7_col17, #T_2dca4_row8_col5, #T_2dca4_row8_col6, #T_2dca4_row8_col7, #T_2dca4_row8_col16, #T_2dca4_row8_col17, #T_2dca4_row9_col16, #T_2dca4_row10_col15, #T_2dca4_row13_col15, #T_2dca4_row14_col15, #T_2dca4_row14_col16, #T_2dca4_row14_col17, #T_2dca4_row14_col18, #T_2dca4_row15_col17, #T_2dca4_row15_col18, #T_2dca4_row15_col19, #T_2dca4_row16_col18, #T_2dca4_row16_col19, #T_2dca4_row16_col20, #T_2dca4_row17_col18, #T_2dca4_row17_col19, #T_2dca4_row18_col18, #T_2dca4_row18_col19, #T_2dca4_row19_col17, #T_2dca4_row19_col18, #T_2dca4_row20_col16, #T_2dca4_row20_col17, #T_2dca4_row21_col15, #T_2dca4_row21_col16, #T_2dca4_row23_col7, #T_2dca4_row23_col8, #T_2dca4_row23_col9, #T_2dca4_row23_col10, #T_2dca4_row23_col11, #T_2dca4_row24_col7, #T_2dca4_row24_col8, #T_2dca4_row24_col9, #T_2dca4_row24_col10, #T_2dca4_row24_col11 {\n",
       "  font-size: 6pt;\n",
       "  background-color: #000000;\n",
       "  color: #f1f1f1;\n",
       "}\n",
       "#T_2dca4_row5_col15 {\n",
       "  font-size: 6pt;\n",
       "  background-color: #606060;\n",
       "  color: #f1f1f1;\n",
       "}\n",
       "#T_2dca4_row5_col16 {\n",
       "  font-size: 6pt;\n",
       "  background-color: #4d4d4d;\n",
       "  color: #f1f1f1;\n",
       "}\n",
       "#T_2dca4_row5_col18 {\n",
       "  font-size: 6pt;\n",
       "  background-color: #bbbbbb;\n",
       "  color: #000000;\n",
       "}\n",
       "#T_2dca4_row6_col7, #T_2dca4_row8_col9 {\n",
       "  font-size: 6pt;\n",
       "  background-color: #e4e4e4;\n",
       "  color: #000000;\n",
       "}\n",
       "#T_2dca4_row6_col8, #T_2dca4_row12_col10 {\n",
       "  font-size: 6pt;\n",
       "  background-color: #6b6b6b;\n",
       "  color: #f1f1f1;\n",
       "}\n",
       "#T_2dca4_row6_col9, #T_2dca4_row9_col15 {\n",
       "  font-size: 6pt;\n",
       "  background-color: #222222;\n",
       "  color: #f1f1f1;\n",
       "}\n",
       "#T_2dca4_row6_col12, #T_2dca4_row6_col18, #T_2dca4_row7_col18, #T_2dca4_row21_col17 {\n",
       "  font-size: 6pt;\n",
       "  background-color: #171717;\n",
       "  color: #f1f1f1;\n",
       "}\n",
       "#T_2dca4_row6_col13, #T_2dca4_row7_col15 {\n",
       "  font-size: 6pt;\n",
       "  background-color: #4b4b4b;\n",
       "  color: #f1f1f1;\n",
       "}\n",
       "#T_2dca4_row6_col14, #T_2dca4_row11_col14, #T_2dca4_row12_col12, #T_2dca4_row12_col14, #T_2dca4_row13_col12, #T_2dca4_row13_col14, #T_2dca4_row22_col14, #T_2dca4_row23_col12 {\n",
       "  font-size: 6pt;\n",
       "  background-color: #010101;\n",
       "  color: #f1f1f1;\n",
       "}\n",
       "#T_2dca4_row7_col5 {\n",
       "  font-size: 6pt;\n",
       "  background-color: #272727;\n",
       "  color: #f1f1f1;\n",
       "}\n",
       "#T_2dca4_row7_col6 {\n",
       "  font-size: 6pt;\n",
       "  background-color: #0a0a0a;\n",
       "  color: #f1f1f1;\n",
       "}\n",
       "#T_2dca4_row7_col7, #T_2dca4_row18_col17 {\n",
       "  font-size: 6pt;\n",
       "  background-color: #050505;\n",
       "  color: #f1f1f1;\n",
       "}\n",
       "#T_2dca4_row7_col9, #T_2dca4_row12_col15, #T_2dca4_row14_col19, #T_2dca4_row23_col6 {\n",
       "  font-size: 6pt;\n",
       "  background-color: #545454;\n",
       "  color: #f1f1f1;\n",
       "}\n",
       "#T_2dca4_row7_col10 {\n",
       "  font-size: 6pt;\n",
       "  background-color: #e6e6e6;\n",
       "  color: #000000;\n",
       "}\n",
       "#T_2dca4_row7_col11, #T_2dca4_row7_col14, #T_2dca4_row12_col9 {\n",
       "  font-size: 6pt;\n",
       "  background-color: #fafafa;\n",
       "  color: #000000;\n",
       "}\n",
       "#T_2dca4_row7_col12, #T_2dca4_row15_col14, #T_2dca4_row20_col19 {\n",
       "  font-size: 6pt;\n",
       "  background-color: #fbfbfb;\n",
       "  color: #000000;\n",
       "}\n",
       "#T_2dca4_row7_col13 {\n",
       "  font-size: 6pt;\n",
       "  background-color: #fdfdfd;\n",
       "  color: #000000;\n",
       "}\n",
       "#T_2dca4_row8_col8 {\n",
       "  font-size: 6pt;\n",
       "  background-color: #1b1b1b;\n",
       "  color: #f1f1f1;\n",
       "}\n",
       "#T_2dca4_row8_col15 {\n",
       "  font-size: 6pt;\n",
       "  background-color: #4e4e4e;\n",
       "  color: #f1f1f1;\n",
       "}\n",
       "#T_2dca4_row8_col18 {\n",
       "  font-size: 6pt;\n",
       "  background-color: #767676;\n",
       "  color: #f1f1f1;\n",
       "}\n",
       "#T_2dca4_row9_col5 {\n",
       "  font-size: 6pt;\n",
       "  background-color: #fcfcfc;\n",
       "  color: #000000;\n",
       "}\n",
       "#T_2dca4_row9_col6, #T_2dca4_row9_col7, #T_2dca4_row19_col20 {\n",
       "  font-size: 6pt;\n",
       "  background-color: #f6f6f6;\n",
       "  color: #000000;\n",
       "}\n",
       "#T_2dca4_row9_col8, #T_2dca4_row11_col11 {\n",
       "  font-size: 6pt;\n",
       "  background-color: #f8f8f8;\n",
       "  color: #000000;\n",
       "}\n",
       "#T_2dca4_row9_col14, #T_2dca4_row14_col11 {\n",
       "  font-size: 6pt;\n",
       "  background-color: #e8e8e8;\n",
       "  color: #000000;\n",
       "}\n",
       "#T_2dca4_row9_col17, #T_2dca4_row10_col16 {\n",
       "  font-size: 6pt;\n",
       "  background-color: #090909;\n",
       "  color: #f1f1f1;\n",
       "}\n",
       "#T_2dca4_row9_col18 {\n",
       "  font-size: 6pt;\n",
       "  background-color: #d0d0d0;\n",
       "  color: #000000;\n",
       "}\n",
       "#T_2dca4_row10_col14, #T_2dca4_row11_col15, #T_2dca4_row13_col10 {\n",
       "  font-size: 6pt;\n",
       "  background-color: #060606;\n",
       "  color: #f1f1f1;\n",
       "}\n",
       "#T_2dca4_row10_col17 {\n",
       "  font-size: 6pt;\n",
       "  background-color: #979797;\n",
       "  color: #f1f1f1;\n",
       "}\n",
       "#T_2dca4_row11_col12 {\n",
       "  font-size: 6pt;\n",
       "  background-color: #b6b6b6;\n",
       "  color: #000000;\n",
       "}\n",
       "#T_2dca4_row11_col13 {\n",
       "  font-size: 6pt;\n",
       "  background-color: #252525;\n",
       "  color: #f1f1f1;\n",
       "}\n",
       "#T_2dca4_row11_col16 {\n",
       "  font-size: 6pt;\n",
       "  background-color: #999999;\n",
       "  color: #f1f1f1;\n",
       "}\n",
       "#T_2dca4_row12_col11, #T_2dca4_row22_col12 {\n",
       "  font-size: 6pt;\n",
       "  background-color: #101010;\n",
       "  color: #f1f1f1;\n",
       "}\n",
       "#T_2dca4_row12_col13, #T_2dca4_row13_col13, #T_2dca4_row21_col14, #T_2dca4_row22_col13, #T_2dca4_row23_col13 {\n",
       "  font-size: 6pt;\n",
       "  background-color: #020202;\n",
       "  color: #f1f1f1;\n",
       "}\n",
       "#T_2dca4_row13_col9 {\n",
       "  font-size: 6pt;\n",
       "  background-color: #f7f7f7;\n",
       "  color: #000000;\n",
       "}\n",
       "#T_2dca4_row13_col11, #T_2dca4_row22_col15 {\n",
       "  font-size: 6pt;\n",
       "  background-color: #030303;\n",
       "  color: #f1f1f1;\n",
       "}\n",
       "#T_2dca4_row13_col16 {\n",
       "  font-size: 6pt;\n",
       "  background-color: #181818;\n",
       "  color: #f1f1f1;\n",
       "}\n",
       "#T_2dca4_row13_col17 {\n",
       "  font-size: 6pt;\n",
       "  background-color: #303030;\n",
       "  color: #f1f1f1;\n",
       "}\n",
       "#T_2dca4_row13_col18 {\n",
       "  font-size: 6pt;\n",
       "  background-color: #a9a9a9;\n",
       "  color: #f1f1f1;\n",
       "}\n",
       "#T_2dca4_row13_col19 {\n",
       "  font-size: 6pt;\n",
       "  background-color: #fefefe;\n",
       "  color: #000000;\n",
       "}\n",
       "#T_2dca4_row14_col12, #T_2dca4_row14_col13, #T_2dca4_row20_col14 {\n",
       "  font-size: 6pt;\n",
       "  background-color: #bababa;\n",
       "  color: #000000;\n",
       "}\n",
       "#T_2dca4_row14_col14 {\n",
       "  font-size: 6pt;\n",
       "  background-color: #393939;\n",
       "  color: #f1f1f1;\n",
       "}\n",
       "#T_2dca4_row14_col20 {\n",
       "  font-size: 6pt;\n",
       "  background-color: #eaeaea;\n",
       "  color: #000000;\n",
       "}\n",
       "#T_2dca4_row15_col15 {\n",
       "  font-size: 6pt;\n",
       "  background-color: #e2e2e2;\n",
       "  color: #000000;\n",
       "}\n",
       "#T_2dca4_row15_col16 {\n",
       "  font-size: 6pt;\n",
       "  background-color: #9f9f9f;\n",
       "  color: #f1f1f1;\n",
       "}\n",
       "#T_2dca4_row15_col20 {\n",
       "  font-size: 6pt;\n",
       "  background-color: #898989;\n",
       "  color: #f1f1f1;\n",
       "}\n",
       "#T_2dca4_row16_col17 {\n",
       "  font-size: 6pt;\n",
       "  background-color: #585858;\n",
       "  color: #f1f1f1;\n",
       "}\n",
       "#T_2dca4_row17_col17 {\n",
       "  font-size: 6pt;\n",
       "  background-color: #5a5a5a;\n",
       "  color: #f1f1f1;\n",
       "}\n",
       "#T_2dca4_row17_col20 {\n",
       "  font-size: 6pt;\n",
       "  background-color: #525252;\n",
       "  color: #f1f1f1;\n",
       "}\n",
       "#T_2dca4_row18_col16, #T_2dca4_row23_col15 {\n",
       "  font-size: 6pt;\n",
       "  background-color: #c5c5c5;\n",
       "  color: #000000;\n",
       "}\n",
       "#T_2dca4_row18_col20 {\n",
       "  font-size: 6pt;\n",
       "  background-color: #d7d7d7;\n",
       "  color: #000000;\n",
       "}\n",
       "#T_2dca4_row19_col15, #T_2dca4_row22_col9 {\n",
       "  font-size: 6pt;\n",
       "  background-color: #dcdcdc;\n",
       "  color: #000000;\n",
       "}\n",
       "#T_2dca4_row19_col16 {\n",
       "  font-size: 6pt;\n",
       "  background-color: #2f2f2f;\n",
       "  color: #f1f1f1;\n",
       "}\n",
       "#T_2dca4_row19_col19 {\n",
       "  font-size: 6pt;\n",
       "  background-color: #636363;\n",
       "  color: #f1f1f1;\n",
       "}\n",
       "#T_2dca4_row20_col15 {\n",
       "  font-size: 6pt;\n",
       "  background-color: #070707;\n",
       "  color: #f1f1f1;\n",
       "}\n",
       "#T_2dca4_row20_col18 {\n",
       "  font-size: 6pt;\n",
       "  background-color: #1f1f1f;\n",
       "  color: #f1f1f1;\n",
       "}\n",
       "#T_2dca4_row21_col12, #T_2dca4_row22_col6, #T_2dca4_row22_col8 {\n",
       "  font-size: 6pt;\n",
       "  background-color: #e9e9e9;\n",
       "  color: #000000;\n",
       "}\n",
       "#T_2dca4_row21_col13 {\n",
       "  font-size: 6pt;\n",
       "  background-color: #7d7d7d;\n",
       "  color: #f1f1f1;\n",
       "}\n",
       "#T_2dca4_row21_col18 {\n",
       "  font-size: 6pt;\n",
       "  background-color: #e1e1e1;\n",
       "  color: #000000;\n",
       "}\n",
       "#T_2dca4_row22_col7, #T_2dca4_row22_col10 {\n",
       "  font-size: 6pt;\n",
       "  background-color: #a4a4a4;\n",
       "  color: #f1f1f1;\n",
       "}\n",
       "#T_2dca4_row22_col11 {\n",
       "  font-size: 6pt;\n",
       "  background-color: #727272;\n",
       "  color: #f1f1f1;\n",
       "}\n",
       "#T_2dca4_row22_col16 {\n",
       "  font-size: 6pt;\n",
       "  background-color: #616161;\n",
       "  color: #f1f1f1;\n",
       "}\n",
       "#T_2dca4_row22_col17 {\n",
       "  font-size: 6pt;\n",
       "  background-color: #f3f3f3;\n",
       "  color: #000000;\n",
       "}\n",
       "#T_2dca4_row23_col14 {\n",
       "  font-size: 6pt;\n",
       "  background-color: #484848;\n",
       "  color: #f1f1f1;\n",
       "}\n",
       "#T_2dca4_row24_col6 {\n",
       "  font-size: 6pt;\n",
       "  background-color: #b3b3b3;\n",
       "  color: #000000;\n",
       "}\n",
       "#T_2dca4_row24_col12 {\n",
       "  font-size: 6pt;\n",
       "  background-color: #1a1a1a;\n",
       "  color: #f1f1f1;\n",
       "}\n",
       "#T_2dca4_row24_col13 {\n",
       "  font-size: 6pt;\n",
       "  background-color: #d6d6d6;\n",
       "  color: #000000;\n",
       "}\n",
       "</style>\n",
       "<table id=\"T_2dca4_\">\n",
       "  <thead>\n",
       "    <tr>\n",
       "      <th class=\"blank level0\" >&nbsp;</th>\n",
       "      <th class=\"col_heading level0 col0\" >0</th>\n",
       "      <th class=\"col_heading level0 col1\" >1</th>\n",
       "      <th class=\"col_heading level0 col2\" >2</th>\n",
       "      <th class=\"col_heading level0 col3\" >3</th>\n",
       "      <th class=\"col_heading level0 col4\" >4</th>\n",
       "      <th class=\"col_heading level0 col5\" >5</th>\n",
       "      <th class=\"col_heading level0 col6\" >6</th>\n",
       "      <th class=\"col_heading level0 col7\" >7</th>\n",
       "      <th class=\"col_heading level0 col8\" >8</th>\n",
       "      <th class=\"col_heading level0 col9\" >9</th>\n",
       "      <th class=\"col_heading level0 col10\" >10</th>\n",
       "      <th class=\"col_heading level0 col11\" >11</th>\n",
       "      <th class=\"col_heading level0 col12\" >12</th>\n",
       "      <th class=\"col_heading level0 col13\" >13</th>\n",
       "      <th class=\"col_heading level0 col14\" >14</th>\n",
       "      <th class=\"col_heading level0 col15\" >15</th>\n",
       "      <th class=\"col_heading level0 col16\" >16</th>\n",
       "      <th class=\"col_heading level0 col17\" >17</th>\n",
       "      <th class=\"col_heading level0 col18\" >18</th>\n",
       "      <th class=\"col_heading level0 col19\" >19</th>\n",
       "      <th class=\"col_heading level0 col20\" >20</th>\n",
       "      <th class=\"col_heading level0 col21\" >21</th>\n",
       "      <th class=\"col_heading level0 col22\" >22</th>\n",
       "      <th class=\"col_heading level0 col23\" >23</th>\n",
       "      <th class=\"col_heading level0 col24\" >24</th>\n",
       "      <th class=\"col_heading level0 col25\" >25</th>\n",
       "      <th class=\"col_heading level0 col26\" >26</th>\n",
       "      <th class=\"col_heading level0 col27\" >27</th>\n",
       "    </tr>\n",
       "  </thead>\n",
       "  <tbody>\n",
       "    <tr>\n",
       "      <th id=\"T_2dca4_level0_row0\" class=\"row_heading level0 row0\" >0</th>\n",
       "      <td id=\"T_2dca4_row0_col0\" class=\"data row0 col0\" >0</td>\n",
       "      <td id=\"T_2dca4_row0_col1\" class=\"data row0 col1\" >0</td>\n",
       "      <td id=\"T_2dca4_row0_col2\" class=\"data row0 col2\" >0</td>\n",
       "      <td id=\"T_2dca4_row0_col3\" class=\"data row0 col3\" >0</td>\n",
       "      <td id=\"T_2dca4_row0_col4\" class=\"data row0 col4\" >0</td>\n",
       "      <td id=\"T_2dca4_row0_col5\" class=\"data row0 col5\" >0</td>\n",
       "      <td id=\"T_2dca4_row0_col6\" class=\"data row0 col6\" >0</td>\n",
       "      <td id=\"T_2dca4_row0_col7\" class=\"data row0 col7\" >0</td>\n",
       "      <td id=\"T_2dca4_row0_col8\" class=\"data row0 col8\" >0</td>\n",
       "      <td id=\"T_2dca4_row0_col9\" class=\"data row0 col9\" >0</td>\n",
       "      <td id=\"T_2dca4_row0_col10\" class=\"data row0 col10\" >0</td>\n",
       "      <td id=\"T_2dca4_row0_col11\" class=\"data row0 col11\" >0</td>\n",
       "      <td id=\"T_2dca4_row0_col12\" class=\"data row0 col12\" >0</td>\n",
       "      <td id=\"T_2dca4_row0_col13\" class=\"data row0 col13\" >0</td>\n",
       "      <td id=\"T_2dca4_row0_col14\" class=\"data row0 col14\" >0</td>\n",
       "      <td id=\"T_2dca4_row0_col15\" class=\"data row0 col15\" >0</td>\n",
       "      <td id=\"T_2dca4_row0_col16\" class=\"data row0 col16\" >0</td>\n",
       "      <td id=\"T_2dca4_row0_col17\" class=\"data row0 col17\" >0</td>\n",
       "      <td id=\"T_2dca4_row0_col18\" class=\"data row0 col18\" >0</td>\n",
       "      <td id=\"T_2dca4_row0_col19\" class=\"data row0 col19\" >0</td>\n",
       "      <td id=\"T_2dca4_row0_col20\" class=\"data row0 col20\" >0</td>\n",
       "      <td id=\"T_2dca4_row0_col21\" class=\"data row0 col21\" >0</td>\n",
       "      <td id=\"T_2dca4_row0_col22\" class=\"data row0 col22\" >0</td>\n",
       "      <td id=\"T_2dca4_row0_col23\" class=\"data row0 col23\" >0</td>\n",
       "      <td id=\"T_2dca4_row0_col24\" class=\"data row0 col24\" >0</td>\n",
       "      <td id=\"T_2dca4_row0_col25\" class=\"data row0 col25\" >0</td>\n",
       "      <td id=\"T_2dca4_row0_col26\" class=\"data row0 col26\" >0</td>\n",
       "      <td id=\"T_2dca4_row0_col27\" class=\"data row0 col27\" >0</td>\n",
       "    </tr>\n",
       "    <tr>\n",
       "      <th id=\"T_2dca4_level0_row1\" class=\"row_heading level0 row1\" >1</th>\n",
       "      <td id=\"T_2dca4_row1_col0\" class=\"data row1 col0\" >0</td>\n",
       "      <td id=\"T_2dca4_row1_col1\" class=\"data row1 col1\" >0</td>\n",
       "      <td id=\"T_2dca4_row1_col2\" class=\"data row1 col2\" >0</td>\n",
       "      <td id=\"T_2dca4_row1_col3\" class=\"data row1 col3\" >0</td>\n",
       "      <td id=\"T_2dca4_row1_col4\" class=\"data row1 col4\" >0</td>\n",
       "      <td id=\"T_2dca4_row1_col5\" class=\"data row1 col5\" >0</td>\n",
       "      <td id=\"T_2dca4_row1_col6\" class=\"data row1 col6\" >0</td>\n",
       "      <td id=\"T_2dca4_row1_col7\" class=\"data row1 col7\" >0</td>\n",
       "      <td id=\"T_2dca4_row1_col8\" class=\"data row1 col8\" >0</td>\n",
       "      <td id=\"T_2dca4_row1_col9\" class=\"data row1 col9\" >0</td>\n",
       "      <td id=\"T_2dca4_row1_col10\" class=\"data row1 col10\" >0</td>\n",
       "      <td id=\"T_2dca4_row1_col11\" class=\"data row1 col11\" >0</td>\n",
       "      <td id=\"T_2dca4_row1_col12\" class=\"data row1 col12\" >0</td>\n",
       "      <td id=\"T_2dca4_row1_col13\" class=\"data row1 col13\" >0</td>\n",
       "      <td id=\"T_2dca4_row1_col14\" class=\"data row1 col14\" >0</td>\n",
       "      <td id=\"T_2dca4_row1_col15\" class=\"data row1 col15\" >0</td>\n",
       "      <td id=\"T_2dca4_row1_col16\" class=\"data row1 col16\" >0</td>\n",
       "      <td id=\"T_2dca4_row1_col17\" class=\"data row1 col17\" >0</td>\n",
       "      <td id=\"T_2dca4_row1_col18\" class=\"data row1 col18\" >0</td>\n",
       "      <td id=\"T_2dca4_row1_col19\" class=\"data row1 col19\" >0</td>\n",
       "      <td id=\"T_2dca4_row1_col20\" class=\"data row1 col20\" >0</td>\n",
       "      <td id=\"T_2dca4_row1_col21\" class=\"data row1 col21\" >0</td>\n",
       "      <td id=\"T_2dca4_row1_col22\" class=\"data row1 col22\" >0</td>\n",
       "      <td id=\"T_2dca4_row1_col23\" class=\"data row1 col23\" >0</td>\n",
       "      <td id=\"T_2dca4_row1_col24\" class=\"data row1 col24\" >0</td>\n",
       "      <td id=\"T_2dca4_row1_col25\" class=\"data row1 col25\" >0</td>\n",
       "      <td id=\"T_2dca4_row1_col26\" class=\"data row1 col26\" >0</td>\n",
       "      <td id=\"T_2dca4_row1_col27\" class=\"data row1 col27\" >0</td>\n",
       "    </tr>\n",
       "    <tr>\n",
       "      <th id=\"T_2dca4_level0_row2\" class=\"row_heading level0 row2\" >2</th>\n",
       "      <td id=\"T_2dca4_row2_col0\" class=\"data row2 col0\" >0</td>\n",
       "      <td id=\"T_2dca4_row2_col1\" class=\"data row2 col1\" >0</td>\n",
       "      <td id=\"T_2dca4_row2_col2\" class=\"data row2 col2\" >0</td>\n",
       "      <td id=\"T_2dca4_row2_col3\" class=\"data row2 col3\" >0</td>\n",
       "      <td id=\"T_2dca4_row2_col4\" class=\"data row2 col4\" >0</td>\n",
       "      <td id=\"T_2dca4_row2_col5\" class=\"data row2 col5\" >0</td>\n",
       "      <td id=\"T_2dca4_row2_col6\" class=\"data row2 col6\" >0</td>\n",
       "      <td id=\"T_2dca4_row2_col7\" class=\"data row2 col7\" >0</td>\n",
       "      <td id=\"T_2dca4_row2_col8\" class=\"data row2 col8\" >0</td>\n",
       "      <td id=\"T_2dca4_row2_col9\" class=\"data row2 col9\" >0</td>\n",
       "      <td id=\"T_2dca4_row2_col10\" class=\"data row2 col10\" >0</td>\n",
       "      <td id=\"T_2dca4_row2_col11\" class=\"data row2 col11\" >0</td>\n",
       "      <td id=\"T_2dca4_row2_col12\" class=\"data row2 col12\" >0</td>\n",
       "      <td id=\"T_2dca4_row2_col13\" class=\"data row2 col13\" >0</td>\n",
       "      <td id=\"T_2dca4_row2_col14\" class=\"data row2 col14\" >0</td>\n",
       "      <td id=\"T_2dca4_row2_col15\" class=\"data row2 col15\" >0</td>\n",
       "      <td id=\"T_2dca4_row2_col16\" class=\"data row2 col16\" >0</td>\n",
       "      <td id=\"T_2dca4_row2_col17\" class=\"data row2 col17\" >0</td>\n",
       "      <td id=\"T_2dca4_row2_col18\" class=\"data row2 col18\" >0</td>\n",
       "      <td id=\"T_2dca4_row2_col19\" class=\"data row2 col19\" >0</td>\n",
       "      <td id=\"T_2dca4_row2_col20\" class=\"data row2 col20\" >0</td>\n",
       "      <td id=\"T_2dca4_row2_col21\" class=\"data row2 col21\" >0</td>\n",
       "      <td id=\"T_2dca4_row2_col22\" class=\"data row2 col22\" >0</td>\n",
       "      <td id=\"T_2dca4_row2_col23\" class=\"data row2 col23\" >0</td>\n",
       "      <td id=\"T_2dca4_row2_col24\" class=\"data row2 col24\" >0</td>\n",
       "      <td id=\"T_2dca4_row2_col25\" class=\"data row2 col25\" >0</td>\n",
       "      <td id=\"T_2dca4_row2_col26\" class=\"data row2 col26\" >0</td>\n",
       "      <td id=\"T_2dca4_row2_col27\" class=\"data row2 col27\" >0</td>\n",
       "    </tr>\n",
       "    <tr>\n",
       "      <th id=\"T_2dca4_level0_row3\" class=\"row_heading level0 row3\" >3</th>\n",
       "      <td id=\"T_2dca4_row3_col0\" class=\"data row3 col0\" >0</td>\n",
       "      <td id=\"T_2dca4_row3_col1\" class=\"data row3 col1\" >0</td>\n",
       "      <td id=\"T_2dca4_row3_col2\" class=\"data row3 col2\" >0</td>\n",
       "      <td id=\"T_2dca4_row3_col3\" class=\"data row3 col3\" >0</td>\n",
       "      <td id=\"T_2dca4_row3_col4\" class=\"data row3 col4\" >0</td>\n",
       "      <td id=\"T_2dca4_row3_col5\" class=\"data row3 col5\" >0</td>\n",
       "      <td id=\"T_2dca4_row3_col6\" class=\"data row3 col6\" >0</td>\n",
       "      <td id=\"T_2dca4_row3_col7\" class=\"data row3 col7\" >0</td>\n",
       "      <td id=\"T_2dca4_row3_col8\" class=\"data row3 col8\" >0</td>\n",
       "      <td id=\"T_2dca4_row3_col9\" class=\"data row3 col9\" >0</td>\n",
       "      <td id=\"T_2dca4_row3_col10\" class=\"data row3 col10\" >0</td>\n",
       "      <td id=\"T_2dca4_row3_col11\" class=\"data row3 col11\" >0</td>\n",
       "      <td id=\"T_2dca4_row3_col12\" class=\"data row3 col12\" >0</td>\n",
       "      <td id=\"T_2dca4_row3_col13\" class=\"data row3 col13\" >0</td>\n",
       "      <td id=\"T_2dca4_row3_col14\" class=\"data row3 col14\" >0</td>\n",
       "      <td id=\"T_2dca4_row3_col15\" class=\"data row3 col15\" >0</td>\n",
       "      <td id=\"T_2dca4_row3_col16\" class=\"data row3 col16\" >0</td>\n",
       "      <td id=\"T_2dca4_row3_col17\" class=\"data row3 col17\" >0</td>\n",
       "      <td id=\"T_2dca4_row3_col18\" class=\"data row3 col18\" >0</td>\n",
       "      <td id=\"T_2dca4_row3_col19\" class=\"data row3 col19\" >0</td>\n",
       "      <td id=\"T_2dca4_row3_col20\" class=\"data row3 col20\" >0</td>\n",
       "      <td id=\"T_2dca4_row3_col21\" class=\"data row3 col21\" >0</td>\n",
       "      <td id=\"T_2dca4_row3_col22\" class=\"data row3 col22\" >0</td>\n",
       "      <td id=\"T_2dca4_row3_col23\" class=\"data row3 col23\" >0</td>\n",
       "      <td id=\"T_2dca4_row3_col24\" class=\"data row3 col24\" >0</td>\n",
       "      <td id=\"T_2dca4_row3_col25\" class=\"data row3 col25\" >0</td>\n",
       "      <td id=\"T_2dca4_row3_col26\" class=\"data row3 col26\" >0</td>\n",
       "      <td id=\"T_2dca4_row3_col27\" class=\"data row3 col27\" >0</td>\n",
       "    </tr>\n",
       "    <tr>\n",
       "      <th id=\"T_2dca4_level0_row4\" class=\"row_heading level0 row4\" >4</th>\n",
       "      <td id=\"T_2dca4_row4_col0\" class=\"data row4 col0\" >0</td>\n",
       "      <td id=\"T_2dca4_row4_col1\" class=\"data row4 col1\" >0</td>\n",
       "      <td id=\"T_2dca4_row4_col2\" class=\"data row4 col2\" >0</td>\n",
       "      <td id=\"T_2dca4_row4_col3\" class=\"data row4 col3\" >0</td>\n",
       "      <td id=\"T_2dca4_row4_col4\" class=\"data row4 col4\" >0</td>\n",
       "      <td id=\"T_2dca4_row4_col5\" class=\"data row4 col5\" >0</td>\n",
       "      <td id=\"T_2dca4_row4_col6\" class=\"data row4 col6\" >0</td>\n",
       "      <td id=\"T_2dca4_row4_col7\" class=\"data row4 col7\" >0</td>\n",
       "      <td id=\"T_2dca4_row4_col8\" class=\"data row4 col8\" >0</td>\n",
       "      <td id=\"T_2dca4_row4_col9\" class=\"data row4 col9\" >0</td>\n",
       "      <td id=\"T_2dca4_row4_col10\" class=\"data row4 col10\" >0</td>\n",
       "      <td id=\"T_2dca4_row4_col11\" class=\"data row4 col11\" >0</td>\n",
       "      <td id=\"T_2dca4_row4_col12\" class=\"data row4 col12\" >0</td>\n",
       "      <td id=\"T_2dca4_row4_col13\" class=\"data row4 col13\" >0</td>\n",
       "      <td id=\"T_2dca4_row4_col14\" class=\"data row4 col14\" >0</td>\n",
       "      <td id=\"T_2dca4_row4_col15\" class=\"data row4 col15\" >0</td>\n",
       "      <td id=\"T_2dca4_row4_col16\" class=\"data row4 col16\" >0</td>\n",
       "      <td id=\"T_2dca4_row4_col17\" class=\"data row4 col17\" >0</td>\n",
       "      <td id=\"T_2dca4_row4_col18\" class=\"data row4 col18\" >0</td>\n",
       "      <td id=\"T_2dca4_row4_col19\" class=\"data row4 col19\" >0</td>\n",
       "      <td id=\"T_2dca4_row4_col20\" class=\"data row4 col20\" >0</td>\n",
       "      <td id=\"T_2dca4_row4_col21\" class=\"data row4 col21\" >0</td>\n",
       "      <td id=\"T_2dca4_row4_col22\" class=\"data row4 col22\" >0</td>\n",
       "      <td id=\"T_2dca4_row4_col23\" class=\"data row4 col23\" >0</td>\n",
       "      <td id=\"T_2dca4_row4_col24\" class=\"data row4 col24\" >0</td>\n",
       "      <td id=\"T_2dca4_row4_col25\" class=\"data row4 col25\" >0</td>\n",
       "      <td id=\"T_2dca4_row4_col26\" class=\"data row4 col26\" >0</td>\n",
       "      <td id=\"T_2dca4_row4_col27\" class=\"data row4 col27\" >0</td>\n",
       "    </tr>\n",
       "    <tr>\n",
       "      <th id=\"T_2dca4_level0_row5\" class=\"row_heading level0 row5\" >5</th>\n",
       "      <td id=\"T_2dca4_row5_col0\" class=\"data row5 col0\" >0</td>\n",
       "      <td id=\"T_2dca4_row5_col1\" class=\"data row5 col1\" >0</td>\n",
       "      <td id=\"T_2dca4_row5_col2\" class=\"data row5 col2\" >0</td>\n",
       "      <td id=\"T_2dca4_row5_col3\" class=\"data row5 col3\" >0</td>\n",
       "      <td id=\"T_2dca4_row5_col4\" class=\"data row5 col4\" >0</td>\n",
       "      <td id=\"T_2dca4_row5_col5\" class=\"data row5 col5\" >0</td>\n",
       "      <td id=\"T_2dca4_row5_col6\" class=\"data row5 col6\" >0</td>\n",
       "      <td id=\"T_2dca4_row5_col7\" class=\"data row5 col7\" >0</td>\n",
       "      <td id=\"T_2dca4_row5_col8\" class=\"data row5 col8\" >0</td>\n",
       "      <td id=\"T_2dca4_row5_col9\" class=\"data row5 col9\" >29</td>\n",
       "      <td id=\"T_2dca4_row5_col10\" class=\"data row5 col10\" >150</td>\n",
       "      <td id=\"T_2dca4_row5_col11\" class=\"data row5 col11\" >195</td>\n",
       "      <td id=\"T_2dca4_row5_col12\" class=\"data row5 col12\" >254</td>\n",
       "      <td id=\"T_2dca4_row5_col13\" class=\"data row5 col13\" >255</td>\n",
       "      <td id=\"T_2dca4_row5_col14\" class=\"data row5 col14\" >254</td>\n",
       "      <td id=\"T_2dca4_row5_col15\" class=\"data row5 col15\" >176</td>\n",
       "      <td id=\"T_2dca4_row5_col16\" class=\"data row5 col16\" >193</td>\n",
       "      <td id=\"T_2dca4_row5_col17\" class=\"data row5 col17\" >150</td>\n",
       "      <td id=\"T_2dca4_row5_col18\" class=\"data row5 col18\" >96</td>\n",
       "      <td id=\"T_2dca4_row5_col19\" class=\"data row5 col19\" >0</td>\n",
       "      <td id=\"T_2dca4_row5_col20\" class=\"data row5 col20\" >0</td>\n",
       "      <td id=\"T_2dca4_row5_col21\" class=\"data row5 col21\" >0</td>\n",
       "      <td id=\"T_2dca4_row5_col22\" class=\"data row5 col22\" >0</td>\n",
       "      <td id=\"T_2dca4_row5_col23\" class=\"data row5 col23\" >0</td>\n",
       "      <td id=\"T_2dca4_row5_col24\" class=\"data row5 col24\" >0</td>\n",
       "      <td id=\"T_2dca4_row5_col25\" class=\"data row5 col25\" >0</td>\n",
       "      <td id=\"T_2dca4_row5_col26\" class=\"data row5 col26\" >0</td>\n",
       "      <td id=\"T_2dca4_row5_col27\" class=\"data row5 col27\" >0</td>\n",
       "    </tr>\n",
       "    <tr>\n",
       "      <th id=\"T_2dca4_level0_row6\" class=\"row_heading level0 row6\" >6</th>\n",
       "      <td id=\"T_2dca4_row6_col0\" class=\"data row6 col0\" >0</td>\n",
       "      <td id=\"T_2dca4_row6_col1\" class=\"data row6 col1\" >0</td>\n",
       "      <td id=\"T_2dca4_row6_col2\" class=\"data row6 col2\" >0</td>\n",
       "      <td id=\"T_2dca4_row6_col3\" class=\"data row6 col3\" >0</td>\n",
       "      <td id=\"T_2dca4_row6_col4\" class=\"data row6 col4\" >0</td>\n",
       "      <td id=\"T_2dca4_row6_col5\" class=\"data row6 col5\" >0</td>\n",
       "      <td id=\"T_2dca4_row6_col6\" class=\"data row6 col6\" >0</td>\n",
       "      <td id=\"T_2dca4_row6_col7\" class=\"data row6 col7\" >48</td>\n",
       "      <td id=\"T_2dca4_row6_col8\" class=\"data row6 col8\" >166</td>\n",
       "      <td id=\"T_2dca4_row6_col9\" class=\"data row6 col9\" >224</td>\n",
       "      <td id=\"T_2dca4_row6_col10\" class=\"data row6 col10\" >253</td>\n",
       "      <td id=\"T_2dca4_row6_col11\" class=\"data row6 col11\" >253</td>\n",
       "      <td id=\"T_2dca4_row6_col12\" class=\"data row6 col12\" >234</td>\n",
       "      <td id=\"T_2dca4_row6_col13\" class=\"data row6 col13\" >196</td>\n",
       "      <td id=\"T_2dca4_row6_col14\" class=\"data row6 col14\" >253</td>\n",
       "      <td id=\"T_2dca4_row6_col15\" class=\"data row6 col15\" >253</td>\n",
       "      <td id=\"T_2dca4_row6_col16\" class=\"data row6 col16\" >253</td>\n",
       "      <td id=\"T_2dca4_row6_col17\" class=\"data row6 col17\" >253</td>\n",
       "      <td id=\"T_2dca4_row6_col18\" class=\"data row6 col18\" >233</td>\n",
       "      <td id=\"T_2dca4_row6_col19\" class=\"data row6 col19\" >0</td>\n",
       "      <td id=\"T_2dca4_row6_col20\" class=\"data row6 col20\" >0</td>\n",
       "      <td id=\"T_2dca4_row6_col21\" class=\"data row6 col21\" >0</td>\n",
       "      <td id=\"T_2dca4_row6_col22\" class=\"data row6 col22\" >0</td>\n",
       "      <td id=\"T_2dca4_row6_col23\" class=\"data row6 col23\" >0</td>\n",
       "      <td id=\"T_2dca4_row6_col24\" class=\"data row6 col24\" >0</td>\n",
       "      <td id=\"T_2dca4_row6_col25\" class=\"data row6 col25\" >0</td>\n",
       "      <td id=\"T_2dca4_row6_col26\" class=\"data row6 col26\" >0</td>\n",
       "      <td id=\"T_2dca4_row6_col27\" class=\"data row6 col27\" >0</td>\n",
       "    </tr>\n",
       "    <tr>\n",
       "      <th id=\"T_2dca4_level0_row7\" class=\"row_heading level0 row7\" >7</th>\n",
       "      <td id=\"T_2dca4_row7_col0\" class=\"data row7 col0\" >0</td>\n",
       "      <td id=\"T_2dca4_row7_col1\" class=\"data row7 col1\" >0</td>\n",
       "      <td id=\"T_2dca4_row7_col2\" class=\"data row7 col2\" >0</td>\n",
       "      <td id=\"T_2dca4_row7_col3\" class=\"data row7 col3\" >0</td>\n",
       "      <td id=\"T_2dca4_row7_col4\" class=\"data row7 col4\" >0</td>\n",
       "      <td id=\"T_2dca4_row7_col5\" class=\"data row7 col5\" >93</td>\n",
       "      <td id=\"T_2dca4_row7_col6\" class=\"data row7 col6\" >244</td>\n",
       "      <td id=\"T_2dca4_row7_col7\" class=\"data row7 col7\" >249</td>\n",
       "      <td id=\"T_2dca4_row7_col8\" class=\"data row7 col8\" >253</td>\n",
       "      <td id=\"T_2dca4_row7_col9\" class=\"data row7 col9\" >187</td>\n",
       "      <td id=\"T_2dca4_row7_col10\" class=\"data row7 col10\" >46</td>\n",
       "      <td id=\"T_2dca4_row7_col11\" class=\"data row7 col11\" >10</td>\n",
       "      <td id=\"T_2dca4_row7_col12\" class=\"data row7 col12\" >8</td>\n",
       "      <td id=\"T_2dca4_row7_col13\" class=\"data row7 col13\" >4</td>\n",
       "      <td id=\"T_2dca4_row7_col14\" class=\"data row7 col14\" >10</td>\n",
       "      <td id=\"T_2dca4_row7_col15\" class=\"data row7 col15\" >194</td>\n",
       "      <td id=\"T_2dca4_row7_col16\" class=\"data row7 col16\" >253</td>\n",
       "      <td id=\"T_2dca4_row7_col17\" class=\"data row7 col17\" >253</td>\n",
       "      <td id=\"T_2dca4_row7_col18\" class=\"data row7 col18\" >233</td>\n",
       "      <td id=\"T_2dca4_row7_col19\" class=\"data row7 col19\" >0</td>\n",
       "      <td id=\"T_2dca4_row7_col20\" class=\"data row7 col20\" >0</td>\n",
       "      <td id=\"T_2dca4_row7_col21\" class=\"data row7 col21\" >0</td>\n",
       "      <td id=\"T_2dca4_row7_col22\" class=\"data row7 col22\" >0</td>\n",
       "      <td id=\"T_2dca4_row7_col23\" class=\"data row7 col23\" >0</td>\n",
       "      <td id=\"T_2dca4_row7_col24\" class=\"data row7 col24\" >0</td>\n",
       "      <td id=\"T_2dca4_row7_col25\" class=\"data row7 col25\" >0</td>\n",
       "      <td id=\"T_2dca4_row7_col26\" class=\"data row7 col26\" >0</td>\n",
       "      <td id=\"T_2dca4_row7_col27\" class=\"data row7 col27\" >0</td>\n",
       "    </tr>\n",
       "    <tr>\n",
       "      <th id=\"T_2dca4_level0_row8\" class=\"row_heading level0 row8\" >8</th>\n",
       "      <td id=\"T_2dca4_row8_col0\" class=\"data row8 col0\" >0</td>\n",
       "      <td id=\"T_2dca4_row8_col1\" class=\"data row8 col1\" >0</td>\n",
       "      <td id=\"T_2dca4_row8_col2\" class=\"data row8 col2\" >0</td>\n",
       "      <td id=\"T_2dca4_row8_col3\" class=\"data row8 col3\" >0</td>\n",
       "      <td id=\"T_2dca4_row8_col4\" class=\"data row8 col4\" >0</td>\n",
       "      <td id=\"T_2dca4_row8_col5\" class=\"data row8 col5\" >107</td>\n",
       "      <td id=\"T_2dca4_row8_col6\" class=\"data row8 col6\" >253</td>\n",
       "      <td id=\"T_2dca4_row8_col7\" class=\"data row8 col7\" >253</td>\n",
       "      <td id=\"T_2dca4_row8_col8\" class=\"data row8 col8\" >230</td>\n",
       "      <td id=\"T_2dca4_row8_col9\" class=\"data row8 col9\" >48</td>\n",
       "      <td id=\"T_2dca4_row8_col10\" class=\"data row8 col10\" >0</td>\n",
       "      <td id=\"T_2dca4_row8_col11\" class=\"data row8 col11\" >0</td>\n",
       "      <td id=\"T_2dca4_row8_col12\" class=\"data row8 col12\" >0</td>\n",
       "      <td id=\"T_2dca4_row8_col13\" class=\"data row8 col13\" >0</td>\n",
       "      <td id=\"T_2dca4_row8_col14\" class=\"data row8 col14\" >0</td>\n",
       "      <td id=\"T_2dca4_row8_col15\" class=\"data row8 col15\" >192</td>\n",
       "      <td id=\"T_2dca4_row8_col16\" class=\"data row8 col16\" >253</td>\n",
       "      <td id=\"T_2dca4_row8_col17\" class=\"data row8 col17\" >253</td>\n",
       "      <td id=\"T_2dca4_row8_col18\" class=\"data row8 col18\" >156</td>\n",
       "      <td id=\"T_2dca4_row8_col19\" class=\"data row8 col19\" >0</td>\n",
       "      <td id=\"T_2dca4_row8_col20\" class=\"data row8 col20\" >0</td>\n",
       "      <td id=\"T_2dca4_row8_col21\" class=\"data row8 col21\" >0</td>\n",
       "      <td id=\"T_2dca4_row8_col22\" class=\"data row8 col22\" >0</td>\n",
       "      <td id=\"T_2dca4_row8_col23\" class=\"data row8 col23\" >0</td>\n",
       "      <td id=\"T_2dca4_row8_col24\" class=\"data row8 col24\" >0</td>\n",
       "      <td id=\"T_2dca4_row8_col25\" class=\"data row8 col25\" >0</td>\n",
       "      <td id=\"T_2dca4_row8_col26\" class=\"data row8 col26\" >0</td>\n",
       "      <td id=\"T_2dca4_row8_col27\" class=\"data row8 col27\" >0</td>\n",
       "    </tr>\n",
       "    <tr>\n",
       "      <th id=\"T_2dca4_level0_row9\" class=\"row_heading level0 row9\" >9</th>\n",
       "      <td id=\"T_2dca4_row9_col0\" class=\"data row9 col0\" >0</td>\n",
       "      <td id=\"T_2dca4_row9_col1\" class=\"data row9 col1\" >0</td>\n",
       "      <td id=\"T_2dca4_row9_col2\" class=\"data row9 col2\" >0</td>\n",
       "      <td id=\"T_2dca4_row9_col3\" class=\"data row9 col3\" >0</td>\n",
       "      <td id=\"T_2dca4_row9_col4\" class=\"data row9 col4\" >0</td>\n",
       "      <td id=\"T_2dca4_row9_col5\" class=\"data row9 col5\" >3</td>\n",
       "      <td id=\"T_2dca4_row9_col6\" class=\"data row9 col6\" >20</td>\n",
       "      <td id=\"T_2dca4_row9_col7\" class=\"data row9 col7\" >20</td>\n",
       "      <td id=\"T_2dca4_row9_col8\" class=\"data row9 col8\" >15</td>\n",
       "      <td id=\"T_2dca4_row9_col9\" class=\"data row9 col9\" >0</td>\n",
       "      <td id=\"T_2dca4_row9_col10\" class=\"data row9 col10\" >0</td>\n",
       "      <td id=\"T_2dca4_row9_col11\" class=\"data row9 col11\" >0</td>\n",
       "      <td id=\"T_2dca4_row9_col12\" class=\"data row9 col12\" >0</td>\n",
       "      <td id=\"T_2dca4_row9_col13\" class=\"data row9 col13\" >0</td>\n",
       "      <td id=\"T_2dca4_row9_col14\" class=\"data row9 col14\" >43</td>\n",
       "      <td id=\"T_2dca4_row9_col15\" class=\"data row9 col15\" >224</td>\n",
       "      <td id=\"T_2dca4_row9_col16\" class=\"data row9 col16\" >253</td>\n",
       "      <td id=\"T_2dca4_row9_col17\" class=\"data row9 col17\" >245</td>\n",
       "      <td id=\"T_2dca4_row9_col18\" class=\"data row9 col18\" >74</td>\n",
       "      <td id=\"T_2dca4_row9_col19\" class=\"data row9 col19\" >0</td>\n",
       "      <td id=\"T_2dca4_row9_col20\" class=\"data row9 col20\" >0</td>\n",
       "      <td id=\"T_2dca4_row9_col21\" class=\"data row9 col21\" >0</td>\n",
       "      <td id=\"T_2dca4_row9_col22\" class=\"data row9 col22\" >0</td>\n",
       "      <td id=\"T_2dca4_row9_col23\" class=\"data row9 col23\" >0</td>\n",
       "      <td id=\"T_2dca4_row9_col24\" class=\"data row9 col24\" >0</td>\n",
       "      <td id=\"T_2dca4_row9_col25\" class=\"data row9 col25\" >0</td>\n",
       "      <td id=\"T_2dca4_row9_col26\" class=\"data row9 col26\" >0</td>\n",
       "      <td id=\"T_2dca4_row9_col27\" class=\"data row9 col27\" >0</td>\n",
       "    </tr>\n",
       "    <tr>\n",
       "      <th id=\"T_2dca4_level0_row10\" class=\"row_heading level0 row10\" >10</th>\n",
       "      <td id=\"T_2dca4_row10_col0\" class=\"data row10 col0\" >0</td>\n",
       "      <td id=\"T_2dca4_row10_col1\" class=\"data row10 col1\" >0</td>\n",
       "      <td id=\"T_2dca4_row10_col2\" class=\"data row10 col2\" >0</td>\n",
       "      <td id=\"T_2dca4_row10_col3\" class=\"data row10 col3\" >0</td>\n",
       "      <td id=\"T_2dca4_row10_col4\" class=\"data row10 col4\" >0</td>\n",
       "      <td id=\"T_2dca4_row10_col5\" class=\"data row10 col5\" >0</td>\n",
       "      <td id=\"T_2dca4_row10_col6\" class=\"data row10 col6\" >0</td>\n",
       "      <td id=\"T_2dca4_row10_col7\" class=\"data row10 col7\" >0</td>\n",
       "      <td id=\"T_2dca4_row10_col8\" class=\"data row10 col8\" >0</td>\n",
       "      <td id=\"T_2dca4_row10_col9\" class=\"data row10 col9\" >0</td>\n",
       "      <td id=\"T_2dca4_row10_col10\" class=\"data row10 col10\" >0</td>\n",
       "      <td id=\"T_2dca4_row10_col11\" class=\"data row10 col11\" >0</td>\n",
       "      <td id=\"T_2dca4_row10_col12\" class=\"data row10 col12\" >0</td>\n",
       "      <td id=\"T_2dca4_row10_col13\" class=\"data row10 col13\" >0</td>\n",
       "      <td id=\"T_2dca4_row10_col14\" class=\"data row10 col14\" >249</td>\n",
       "      <td id=\"T_2dca4_row10_col15\" class=\"data row10 col15\" >253</td>\n",
       "      <td id=\"T_2dca4_row10_col16\" class=\"data row10 col16\" >245</td>\n",
       "      <td id=\"T_2dca4_row10_col17\" class=\"data row10 col17\" >126</td>\n",
       "      <td id=\"T_2dca4_row10_col18\" class=\"data row10 col18\" >0</td>\n",
       "      <td id=\"T_2dca4_row10_col19\" class=\"data row10 col19\" >0</td>\n",
       "      <td id=\"T_2dca4_row10_col20\" class=\"data row10 col20\" >0</td>\n",
       "      <td id=\"T_2dca4_row10_col21\" class=\"data row10 col21\" >0</td>\n",
       "      <td id=\"T_2dca4_row10_col22\" class=\"data row10 col22\" >0</td>\n",
       "      <td id=\"T_2dca4_row10_col23\" class=\"data row10 col23\" >0</td>\n",
       "      <td id=\"T_2dca4_row10_col24\" class=\"data row10 col24\" >0</td>\n",
       "      <td id=\"T_2dca4_row10_col25\" class=\"data row10 col25\" >0</td>\n",
       "      <td id=\"T_2dca4_row10_col26\" class=\"data row10 col26\" >0</td>\n",
       "      <td id=\"T_2dca4_row10_col27\" class=\"data row10 col27\" >0</td>\n",
       "    </tr>\n",
       "    <tr>\n",
       "      <th id=\"T_2dca4_level0_row11\" class=\"row_heading level0 row11\" >11</th>\n",
       "      <td id=\"T_2dca4_row11_col0\" class=\"data row11 col0\" >0</td>\n",
       "      <td id=\"T_2dca4_row11_col1\" class=\"data row11 col1\" >0</td>\n",
       "      <td id=\"T_2dca4_row11_col2\" class=\"data row11 col2\" >0</td>\n",
       "      <td id=\"T_2dca4_row11_col3\" class=\"data row11 col3\" >0</td>\n",
       "      <td id=\"T_2dca4_row11_col4\" class=\"data row11 col4\" >0</td>\n",
       "      <td id=\"T_2dca4_row11_col5\" class=\"data row11 col5\" >0</td>\n",
       "      <td id=\"T_2dca4_row11_col6\" class=\"data row11 col6\" >0</td>\n",
       "      <td id=\"T_2dca4_row11_col7\" class=\"data row11 col7\" >0</td>\n",
       "      <td id=\"T_2dca4_row11_col8\" class=\"data row11 col8\" >0</td>\n",
       "      <td id=\"T_2dca4_row11_col9\" class=\"data row11 col9\" >0</td>\n",
       "      <td id=\"T_2dca4_row11_col10\" class=\"data row11 col10\" >0</td>\n",
       "      <td id=\"T_2dca4_row11_col11\" class=\"data row11 col11\" >14</td>\n",
       "      <td id=\"T_2dca4_row11_col12\" class=\"data row11 col12\" >101</td>\n",
       "      <td id=\"T_2dca4_row11_col13\" class=\"data row11 col13\" >223</td>\n",
       "      <td id=\"T_2dca4_row11_col14\" class=\"data row11 col14\" >253</td>\n",
       "      <td id=\"T_2dca4_row11_col15\" class=\"data row11 col15\" >248</td>\n",
       "      <td id=\"T_2dca4_row11_col16\" class=\"data row11 col16\" >124</td>\n",
       "      <td id=\"T_2dca4_row11_col17\" class=\"data row11 col17\" >0</td>\n",
       "      <td id=\"T_2dca4_row11_col18\" class=\"data row11 col18\" >0</td>\n",
       "      <td id=\"T_2dca4_row11_col19\" class=\"data row11 col19\" >0</td>\n",
       "      <td id=\"T_2dca4_row11_col20\" class=\"data row11 col20\" >0</td>\n",
       "      <td id=\"T_2dca4_row11_col21\" class=\"data row11 col21\" >0</td>\n",
       "      <td id=\"T_2dca4_row11_col22\" class=\"data row11 col22\" >0</td>\n",
       "      <td id=\"T_2dca4_row11_col23\" class=\"data row11 col23\" >0</td>\n",
       "      <td id=\"T_2dca4_row11_col24\" class=\"data row11 col24\" >0</td>\n",
       "      <td id=\"T_2dca4_row11_col25\" class=\"data row11 col25\" >0</td>\n",
       "      <td id=\"T_2dca4_row11_col26\" class=\"data row11 col26\" >0</td>\n",
       "      <td id=\"T_2dca4_row11_col27\" class=\"data row11 col27\" >0</td>\n",
       "    </tr>\n",
       "    <tr>\n",
       "      <th id=\"T_2dca4_level0_row12\" class=\"row_heading level0 row12\" >12</th>\n",
       "      <td id=\"T_2dca4_row12_col0\" class=\"data row12 col0\" >0</td>\n",
       "      <td id=\"T_2dca4_row12_col1\" class=\"data row12 col1\" >0</td>\n",
       "      <td id=\"T_2dca4_row12_col2\" class=\"data row12 col2\" >0</td>\n",
       "      <td id=\"T_2dca4_row12_col3\" class=\"data row12 col3\" >0</td>\n",
       "      <td id=\"T_2dca4_row12_col4\" class=\"data row12 col4\" >0</td>\n",
       "      <td id=\"T_2dca4_row12_col5\" class=\"data row12 col5\" >0</td>\n",
       "      <td id=\"T_2dca4_row12_col6\" class=\"data row12 col6\" >0</td>\n",
       "      <td id=\"T_2dca4_row12_col7\" class=\"data row12 col7\" >0</td>\n",
       "      <td id=\"T_2dca4_row12_col8\" class=\"data row12 col8\" >0</td>\n",
       "      <td id=\"T_2dca4_row12_col9\" class=\"data row12 col9\" >11</td>\n",
       "      <td id=\"T_2dca4_row12_col10\" class=\"data row12 col10\" >166</td>\n",
       "      <td id=\"T_2dca4_row12_col11\" class=\"data row12 col11\" >239</td>\n",
       "      <td id=\"T_2dca4_row12_col12\" class=\"data row12 col12\" >253</td>\n",
       "      <td id=\"T_2dca4_row12_col13\" class=\"data row12 col13\" >253</td>\n",
       "      <td id=\"T_2dca4_row12_col14\" class=\"data row12 col14\" >253</td>\n",
       "      <td id=\"T_2dca4_row12_col15\" class=\"data row12 col15\" >187</td>\n",
       "      <td id=\"T_2dca4_row12_col16\" class=\"data row12 col16\" >30</td>\n",
       "      <td id=\"T_2dca4_row12_col17\" class=\"data row12 col17\" >0</td>\n",
       "      <td id=\"T_2dca4_row12_col18\" class=\"data row12 col18\" >0</td>\n",
       "      <td id=\"T_2dca4_row12_col19\" class=\"data row12 col19\" >0</td>\n",
       "      <td id=\"T_2dca4_row12_col20\" class=\"data row12 col20\" >0</td>\n",
       "      <td id=\"T_2dca4_row12_col21\" class=\"data row12 col21\" >0</td>\n",
       "      <td id=\"T_2dca4_row12_col22\" class=\"data row12 col22\" >0</td>\n",
       "      <td id=\"T_2dca4_row12_col23\" class=\"data row12 col23\" >0</td>\n",
       "      <td id=\"T_2dca4_row12_col24\" class=\"data row12 col24\" >0</td>\n",
       "      <td id=\"T_2dca4_row12_col25\" class=\"data row12 col25\" >0</td>\n",
       "      <td id=\"T_2dca4_row12_col26\" class=\"data row12 col26\" >0</td>\n",
       "      <td id=\"T_2dca4_row12_col27\" class=\"data row12 col27\" >0</td>\n",
       "    </tr>\n",
       "    <tr>\n",
       "      <th id=\"T_2dca4_level0_row13\" class=\"row_heading level0 row13\" >13</th>\n",
       "      <td id=\"T_2dca4_row13_col0\" class=\"data row13 col0\" >0</td>\n",
       "      <td id=\"T_2dca4_row13_col1\" class=\"data row13 col1\" >0</td>\n",
       "      <td id=\"T_2dca4_row13_col2\" class=\"data row13 col2\" >0</td>\n",
       "      <td id=\"T_2dca4_row13_col3\" class=\"data row13 col3\" >0</td>\n",
       "      <td id=\"T_2dca4_row13_col4\" class=\"data row13 col4\" >0</td>\n",
       "      <td id=\"T_2dca4_row13_col5\" class=\"data row13 col5\" >0</td>\n",
       "      <td id=\"T_2dca4_row13_col6\" class=\"data row13 col6\" >0</td>\n",
       "      <td id=\"T_2dca4_row13_col7\" class=\"data row13 col7\" >0</td>\n",
       "      <td id=\"T_2dca4_row13_col8\" class=\"data row13 col8\" >0</td>\n",
       "      <td id=\"T_2dca4_row13_col9\" class=\"data row13 col9\" >16</td>\n",
       "      <td id=\"T_2dca4_row13_col10\" class=\"data row13 col10\" >248</td>\n",
       "      <td id=\"T_2dca4_row13_col11\" class=\"data row13 col11\" >250</td>\n",
       "      <td id=\"T_2dca4_row13_col12\" class=\"data row13 col12\" >253</td>\n",
       "      <td id=\"T_2dca4_row13_col13\" class=\"data row13 col13\" >253</td>\n",
       "      <td id=\"T_2dca4_row13_col14\" class=\"data row13 col14\" >253</td>\n",
       "      <td id=\"T_2dca4_row13_col15\" class=\"data row13 col15\" >253</td>\n",
       "      <td id=\"T_2dca4_row13_col16\" class=\"data row13 col16\" >232</td>\n",
       "      <td id=\"T_2dca4_row13_col17\" class=\"data row13 col17\" >213</td>\n",
       "      <td id=\"T_2dca4_row13_col18\" class=\"data row13 col18\" >111</td>\n",
       "      <td id=\"T_2dca4_row13_col19\" class=\"data row13 col19\" >2</td>\n",
       "      <td id=\"T_2dca4_row13_col20\" class=\"data row13 col20\" >0</td>\n",
       "      <td id=\"T_2dca4_row13_col21\" class=\"data row13 col21\" >0</td>\n",
       "      <td id=\"T_2dca4_row13_col22\" class=\"data row13 col22\" >0</td>\n",
       "      <td id=\"T_2dca4_row13_col23\" class=\"data row13 col23\" >0</td>\n",
       "      <td id=\"T_2dca4_row13_col24\" class=\"data row13 col24\" >0</td>\n",
       "      <td id=\"T_2dca4_row13_col25\" class=\"data row13 col25\" >0</td>\n",
       "      <td id=\"T_2dca4_row13_col26\" class=\"data row13 col26\" >0</td>\n",
       "      <td id=\"T_2dca4_row13_col27\" class=\"data row13 col27\" >0</td>\n",
       "    </tr>\n",
       "    <tr>\n",
       "      <th id=\"T_2dca4_level0_row14\" class=\"row_heading level0 row14\" >14</th>\n",
       "      <td id=\"T_2dca4_row14_col0\" class=\"data row14 col0\" >0</td>\n",
       "      <td id=\"T_2dca4_row14_col1\" class=\"data row14 col1\" >0</td>\n",
       "      <td id=\"T_2dca4_row14_col2\" class=\"data row14 col2\" >0</td>\n",
       "      <td id=\"T_2dca4_row14_col3\" class=\"data row14 col3\" >0</td>\n",
       "      <td id=\"T_2dca4_row14_col4\" class=\"data row14 col4\" >0</td>\n",
       "      <td id=\"T_2dca4_row14_col5\" class=\"data row14 col5\" >0</td>\n",
       "      <td id=\"T_2dca4_row14_col6\" class=\"data row14 col6\" >0</td>\n",
       "      <td id=\"T_2dca4_row14_col7\" class=\"data row14 col7\" >0</td>\n",
       "      <td id=\"T_2dca4_row14_col8\" class=\"data row14 col8\" >0</td>\n",
       "      <td id=\"T_2dca4_row14_col9\" class=\"data row14 col9\" >0</td>\n",
       "      <td id=\"T_2dca4_row14_col10\" class=\"data row14 col10\" >0</td>\n",
       "      <td id=\"T_2dca4_row14_col11\" class=\"data row14 col11\" >43</td>\n",
       "      <td id=\"T_2dca4_row14_col12\" class=\"data row14 col12\" >98</td>\n",
       "      <td id=\"T_2dca4_row14_col13\" class=\"data row14 col13\" >98</td>\n",
       "      <td id=\"T_2dca4_row14_col14\" class=\"data row14 col14\" >208</td>\n",
       "      <td id=\"T_2dca4_row14_col15\" class=\"data row14 col15\" >253</td>\n",
       "      <td id=\"T_2dca4_row14_col16\" class=\"data row14 col16\" >253</td>\n",
       "      <td id=\"T_2dca4_row14_col17\" class=\"data row14 col17\" >253</td>\n",
       "      <td id=\"T_2dca4_row14_col18\" class=\"data row14 col18\" >253</td>\n",
       "      <td id=\"T_2dca4_row14_col19\" class=\"data row14 col19\" >187</td>\n",
       "      <td id=\"T_2dca4_row14_col20\" class=\"data row14 col20\" >22</td>\n",
       "      <td id=\"T_2dca4_row14_col21\" class=\"data row14 col21\" >0</td>\n",
       "      <td id=\"T_2dca4_row14_col22\" class=\"data row14 col22\" >0</td>\n",
       "      <td id=\"T_2dca4_row14_col23\" class=\"data row14 col23\" >0</td>\n",
       "      <td id=\"T_2dca4_row14_col24\" class=\"data row14 col24\" >0</td>\n",
       "      <td id=\"T_2dca4_row14_col25\" class=\"data row14 col25\" >0</td>\n",
       "      <td id=\"T_2dca4_row14_col26\" class=\"data row14 col26\" >0</td>\n",
       "      <td id=\"T_2dca4_row14_col27\" class=\"data row14 col27\" >0</td>\n",
       "    </tr>\n",
       "    <tr>\n",
       "      <th id=\"T_2dca4_level0_row15\" class=\"row_heading level0 row15\" >15</th>\n",
       "      <td id=\"T_2dca4_row15_col0\" class=\"data row15 col0\" >0</td>\n",
       "      <td id=\"T_2dca4_row15_col1\" class=\"data row15 col1\" >0</td>\n",
       "      <td id=\"T_2dca4_row15_col2\" class=\"data row15 col2\" >0</td>\n",
       "      <td id=\"T_2dca4_row15_col3\" class=\"data row15 col3\" >0</td>\n",
       "      <td id=\"T_2dca4_row15_col4\" class=\"data row15 col4\" >0</td>\n",
       "      <td id=\"T_2dca4_row15_col5\" class=\"data row15 col5\" >0</td>\n",
       "      <td id=\"T_2dca4_row15_col6\" class=\"data row15 col6\" >0</td>\n",
       "      <td id=\"T_2dca4_row15_col7\" class=\"data row15 col7\" >0</td>\n",
       "      <td id=\"T_2dca4_row15_col8\" class=\"data row15 col8\" >0</td>\n",
       "      <td id=\"T_2dca4_row15_col9\" class=\"data row15 col9\" >0</td>\n",
       "      <td id=\"T_2dca4_row15_col10\" class=\"data row15 col10\" >0</td>\n",
       "      <td id=\"T_2dca4_row15_col11\" class=\"data row15 col11\" >0</td>\n",
       "      <td id=\"T_2dca4_row15_col12\" class=\"data row15 col12\" >0</td>\n",
       "      <td id=\"T_2dca4_row15_col13\" class=\"data row15 col13\" >0</td>\n",
       "      <td id=\"T_2dca4_row15_col14\" class=\"data row15 col14\" >9</td>\n",
       "      <td id=\"T_2dca4_row15_col15\" class=\"data row15 col15\" >51</td>\n",
       "      <td id=\"T_2dca4_row15_col16\" class=\"data row15 col16\" >119</td>\n",
       "      <td id=\"T_2dca4_row15_col17\" class=\"data row15 col17\" >253</td>\n",
       "      <td id=\"T_2dca4_row15_col18\" class=\"data row15 col18\" >253</td>\n",
       "      <td id=\"T_2dca4_row15_col19\" class=\"data row15 col19\" >253</td>\n",
       "      <td id=\"T_2dca4_row15_col20\" class=\"data row15 col20\" >76</td>\n",
       "      <td id=\"T_2dca4_row15_col21\" class=\"data row15 col21\" >0</td>\n",
       "      <td id=\"T_2dca4_row15_col22\" class=\"data row15 col22\" >0</td>\n",
       "      <td id=\"T_2dca4_row15_col23\" class=\"data row15 col23\" >0</td>\n",
       "      <td id=\"T_2dca4_row15_col24\" class=\"data row15 col24\" >0</td>\n",
       "      <td id=\"T_2dca4_row15_col25\" class=\"data row15 col25\" >0</td>\n",
       "      <td id=\"T_2dca4_row15_col26\" class=\"data row15 col26\" >0</td>\n",
       "      <td id=\"T_2dca4_row15_col27\" class=\"data row15 col27\" >0</td>\n",
       "    </tr>\n",
       "    <tr>\n",
       "      <th id=\"T_2dca4_level0_row16\" class=\"row_heading level0 row16\" >16</th>\n",
       "      <td id=\"T_2dca4_row16_col0\" class=\"data row16 col0\" >0</td>\n",
       "      <td id=\"T_2dca4_row16_col1\" class=\"data row16 col1\" >0</td>\n",
       "      <td id=\"T_2dca4_row16_col2\" class=\"data row16 col2\" >0</td>\n",
       "      <td id=\"T_2dca4_row16_col3\" class=\"data row16 col3\" >0</td>\n",
       "      <td id=\"T_2dca4_row16_col4\" class=\"data row16 col4\" >0</td>\n",
       "      <td id=\"T_2dca4_row16_col5\" class=\"data row16 col5\" >0</td>\n",
       "      <td id=\"T_2dca4_row16_col6\" class=\"data row16 col6\" >0</td>\n",
       "      <td id=\"T_2dca4_row16_col7\" class=\"data row16 col7\" >0</td>\n",
       "      <td id=\"T_2dca4_row16_col8\" class=\"data row16 col8\" >0</td>\n",
       "      <td id=\"T_2dca4_row16_col9\" class=\"data row16 col9\" >0</td>\n",
       "      <td id=\"T_2dca4_row16_col10\" class=\"data row16 col10\" >0</td>\n",
       "      <td id=\"T_2dca4_row16_col11\" class=\"data row16 col11\" >0</td>\n",
       "      <td id=\"T_2dca4_row16_col12\" class=\"data row16 col12\" >0</td>\n",
       "      <td id=\"T_2dca4_row16_col13\" class=\"data row16 col13\" >0</td>\n",
       "      <td id=\"T_2dca4_row16_col14\" class=\"data row16 col14\" >0</td>\n",
       "      <td id=\"T_2dca4_row16_col15\" class=\"data row16 col15\" >0</td>\n",
       "      <td id=\"T_2dca4_row16_col16\" class=\"data row16 col16\" >1</td>\n",
       "      <td id=\"T_2dca4_row16_col17\" class=\"data row16 col17\" >183</td>\n",
       "      <td id=\"T_2dca4_row16_col18\" class=\"data row16 col18\" >253</td>\n",
       "      <td id=\"T_2dca4_row16_col19\" class=\"data row16 col19\" >253</td>\n",
       "      <td id=\"T_2dca4_row16_col20\" class=\"data row16 col20\" >139</td>\n",
       "      <td id=\"T_2dca4_row16_col21\" class=\"data row16 col21\" >0</td>\n",
       "      <td id=\"T_2dca4_row16_col22\" class=\"data row16 col22\" >0</td>\n",
       "      <td id=\"T_2dca4_row16_col23\" class=\"data row16 col23\" >0</td>\n",
       "      <td id=\"T_2dca4_row16_col24\" class=\"data row16 col24\" >0</td>\n",
       "      <td id=\"T_2dca4_row16_col25\" class=\"data row16 col25\" >0</td>\n",
       "      <td id=\"T_2dca4_row16_col26\" class=\"data row16 col26\" >0</td>\n",
       "      <td id=\"T_2dca4_row16_col27\" class=\"data row16 col27\" >0</td>\n",
       "    </tr>\n",
       "    <tr>\n",
       "      <th id=\"T_2dca4_level0_row17\" class=\"row_heading level0 row17\" >17</th>\n",
       "      <td id=\"T_2dca4_row17_col0\" class=\"data row17 col0\" >0</td>\n",
       "      <td id=\"T_2dca4_row17_col1\" class=\"data row17 col1\" >0</td>\n",
       "      <td id=\"T_2dca4_row17_col2\" class=\"data row17 col2\" >0</td>\n",
       "      <td id=\"T_2dca4_row17_col3\" class=\"data row17 col3\" >0</td>\n",
       "      <td id=\"T_2dca4_row17_col4\" class=\"data row17 col4\" >0</td>\n",
       "      <td id=\"T_2dca4_row17_col5\" class=\"data row17 col5\" >0</td>\n",
       "      <td id=\"T_2dca4_row17_col6\" class=\"data row17 col6\" >0</td>\n",
       "      <td id=\"T_2dca4_row17_col7\" class=\"data row17 col7\" >0</td>\n",
       "      <td id=\"T_2dca4_row17_col8\" class=\"data row17 col8\" >0</td>\n",
       "      <td id=\"T_2dca4_row17_col9\" class=\"data row17 col9\" >0</td>\n",
       "      <td id=\"T_2dca4_row17_col10\" class=\"data row17 col10\" >0</td>\n",
       "      <td id=\"T_2dca4_row17_col11\" class=\"data row17 col11\" >0</td>\n",
       "      <td id=\"T_2dca4_row17_col12\" class=\"data row17 col12\" >0</td>\n",
       "      <td id=\"T_2dca4_row17_col13\" class=\"data row17 col13\" >0</td>\n",
       "      <td id=\"T_2dca4_row17_col14\" class=\"data row17 col14\" >0</td>\n",
       "      <td id=\"T_2dca4_row17_col15\" class=\"data row17 col15\" >0</td>\n",
       "      <td id=\"T_2dca4_row17_col16\" class=\"data row17 col16\" >0</td>\n",
       "      <td id=\"T_2dca4_row17_col17\" class=\"data row17 col17\" >182</td>\n",
       "      <td id=\"T_2dca4_row17_col18\" class=\"data row17 col18\" >253</td>\n",
       "      <td id=\"T_2dca4_row17_col19\" class=\"data row17 col19\" >253</td>\n",
       "      <td id=\"T_2dca4_row17_col20\" class=\"data row17 col20\" >104</td>\n",
       "      <td id=\"T_2dca4_row17_col21\" class=\"data row17 col21\" >0</td>\n",
       "      <td id=\"T_2dca4_row17_col22\" class=\"data row17 col22\" >0</td>\n",
       "      <td id=\"T_2dca4_row17_col23\" class=\"data row17 col23\" >0</td>\n",
       "      <td id=\"T_2dca4_row17_col24\" class=\"data row17 col24\" >0</td>\n",
       "      <td id=\"T_2dca4_row17_col25\" class=\"data row17 col25\" >0</td>\n",
       "      <td id=\"T_2dca4_row17_col26\" class=\"data row17 col26\" >0</td>\n",
       "      <td id=\"T_2dca4_row17_col27\" class=\"data row17 col27\" >0</td>\n",
       "    </tr>\n",
       "    <tr>\n",
       "      <th id=\"T_2dca4_level0_row18\" class=\"row_heading level0 row18\" >18</th>\n",
       "      <td id=\"T_2dca4_row18_col0\" class=\"data row18 col0\" >0</td>\n",
       "      <td id=\"T_2dca4_row18_col1\" class=\"data row18 col1\" >0</td>\n",
       "      <td id=\"T_2dca4_row18_col2\" class=\"data row18 col2\" >0</td>\n",
       "      <td id=\"T_2dca4_row18_col3\" class=\"data row18 col3\" >0</td>\n",
       "      <td id=\"T_2dca4_row18_col4\" class=\"data row18 col4\" >0</td>\n",
       "      <td id=\"T_2dca4_row18_col5\" class=\"data row18 col5\" >0</td>\n",
       "      <td id=\"T_2dca4_row18_col6\" class=\"data row18 col6\" >0</td>\n",
       "      <td id=\"T_2dca4_row18_col7\" class=\"data row18 col7\" >0</td>\n",
       "      <td id=\"T_2dca4_row18_col8\" class=\"data row18 col8\" >0</td>\n",
       "      <td id=\"T_2dca4_row18_col9\" class=\"data row18 col9\" >0</td>\n",
       "      <td id=\"T_2dca4_row18_col10\" class=\"data row18 col10\" >0</td>\n",
       "      <td id=\"T_2dca4_row18_col11\" class=\"data row18 col11\" >0</td>\n",
       "      <td id=\"T_2dca4_row18_col12\" class=\"data row18 col12\" >0</td>\n",
       "      <td id=\"T_2dca4_row18_col13\" class=\"data row18 col13\" >0</td>\n",
       "      <td id=\"T_2dca4_row18_col14\" class=\"data row18 col14\" >0</td>\n",
       "      <td id=\"T_2dca4_row18_col15\" class=\"data row18 col15\" >0</td>\n",
       "      <td id=\"T_2dca4_row18_col16\" class=\"data row18 col16\" >85</td>\n",
       "      <td id=\"T_2dca4_row18_col17\" class=\"data row18 col17\" >249</td>\n",
       "      <td id=\"T_2dca4_row18_col18\" class=\"data row18 col18\" >253</td>\n",
       "      <td id=\"T_2dca4_row18_col19\" class=\"data row18 col19\" >253</td>\n",
       "      <td id=\"T_2dca4_row18_col20\" class=\"data row18 col20\" >36</td>\n",
       "      <td id=\"T_2dca4_row18_col21\" class=\"data row18 col21\" >0</td>\n",
       "      <td id=\"T_2dca4_row18_col22\" class=\"data row18 col22\" >0</td>\n",
       "      <td id=\"T_2dca4_row18_col23\" class=\"data row18 col23\" >0</td>\n",
       "      <td id=\"T_2dca4_row18_col24\" class=\"data row18 col24\" >0</td>\n",
       "      <td id=\"T_2dca4_row18_col25\" class=\"data row18 col25\" >0</td>\n",
       "      <td id=\"T_2dca4_row18_col26\" class=\"data row18 col26\" >0</td>\n",
       "      <td id=\"T_2dca4_row18_col27\" class=\"data row18 col27\" >0</td>\n",
       "    </tr>\n",
       "    <tr>\n",
       "      <th id=\"T_2dca4_level0_row19\" class=\"row_heading level0 row19\" >19</th>\n",
       "      <td id=\"T_2dca4_row19_col0\" class=\"data row19 col0\" >0</td>\n",
       "      <td id=\"T_2dca4_row19_col1\" class=\"data row19 col1\" >0</td>\n",
       "      <td id=\"T_2dca4_row19_col2\" class=\"data row19 col2\" >0</td>\n",
       "      <td id=\"T_2dca4_row19_col3\" class=\"data row19 col3\" >0</td>\n",
       "      <td id=\"T_2dca4_row19_col4\" class=\"data row19 col4\" >0</td>\n",
       "      <td id=\"T_2dca4_row19_col5\" class=\"data row19 col5\" >0</td>\n",
       "      <td id=\"T_2dca4_row19_col6\" class=\"data row19 col6\" >0</td>\n",
       "      <td id=\"T_2dca4_row19_col7\" class=\"data row19 col7\" >0</td>\n",
       "      <td id=\"T_2dca4_row19_col8\" class=\"data row19 col8\" >0</td>\n",
       "      <td id=\"T_2dca4_row19_col9\" class=\"data row19 col9\" >0</td>\n",
       "      <td id=\"T_2dca4_row19_col10\" class=\"data row19 col10\" >0</td>\n",
       "      <td id=\"T_2dca4_row19_col11\" class=\"data row19 col11\" >0</td>\n",
       "      <td id=\"T_2dca4_row19_col12\" class=\"data row19 col12\" >0</td>\n",
       "      <td id=\"T_2dca4_row19_col13\" class=\"data row19 col13\" >0</td>\n",
       "      <td id=\"T_2dca4_row19_col14\" class=\"data row19 col14\" >0</td>\n",
       "      <td id=\"T_2dca4_row19_col15\" class=\"data row19 col15\" >60</td>\n",
       "      <td id=\"T_2dca4_row19_col16\" class=\"data row19 col16\" >214</td>\n",
       "      <td id=\"T_2dca4_row19_col17\" class=\"data row19 col17\" >253</td>\n",
       "      <td id=\"T_2dca4_row19_col18\" class=\"data row19 col18\" >253</td>\n",
       "      <td id=\"T_2dca4_row19_col19\" class=\"data row19 col19\" >173</td>\n",
       "      <td id=\"T_2dca4_row19_col20\" class=\"data row19 col20\" >11</td>\n",
       "      <td id=\"T_2dca4_row19_col21\" class=\"data row19 col21\" >0</td>\n",
       "      <td id=\"T_2dca4_row19_col22\" class=\"data row19 col22\" >0</td>\n",
       "      <td id=\"T_2dca4_row19_col23\" class=\"data row19 col23\" >0</td>\n",
       "      <td id=\"T_2dca4_row19_col24\" class=\"data row19 col24\" >0</td>\n",
       "      <td id=\"T_2dca4_row19_col25\" class=\"data row19 col25\" >0</td>\n",
       "      <td id=\"T_2dca4_row19_col26\" class=\"data row19 col26\" >0</td>\n",
       "      <td id=\"T_2dca4_row19_col27\" class=\"data row19 col27\" >0</td>\n",
       "    </tr>\n",
       "    <tr>\n",
       "      <th id=\"T_2dca4_level0_row20\" class=\"row_heading level0 row20\" >20</th>\n",
       "      <td id=\"T_2dca4_row20_col0\" class=\"data row20 col0\" >0</td>\n",
       "      <td id=\"T_2dca4_row20_col1\" class=\"data row20 col1\" >0</td>\n",
       "      <td id=\"T_2dca4_row20_col2\" class=\"data row20 col2\" >0</td>\n",
       "      <td id=\"T_2dca4_row20_col3\" class=\"data row20 col3\" >0</td>\n",
       "      <td id=\"T_2dca4_row20_col4\" class=\"data row20 col4\" >0</td>\n",
       "      <td id=\"T_2dca4_row20_col5\" class=\"data row20 col5\" >0</td>\n",
       "      <td id=\"T_2dca4_row20_col6\" class=\"data row20 col6\" >0</td>\n",
       "      <td id=\"T_2dca4_row20_col7\" class=\"data row20 col7\" >0</td>\n",
       "      <td id=\"T_2dca4_row20_col8\" class=\"data row20 col8\" >0</td>\n",
       "      <td id=\"T_2dca4_row20_col9\" class=\"data row20 col9\" >0</td>\n",
       "      <td id=\"T_2dca4_row20_col10\" class=\"data row20 col10\" >0</td>\n",
       "      <td id=\"T_2dca4_row20_col11\" class=\"data row20 col11\" >0</td>\n",
       "      <td id=\"T_2dca4_row20_col12\" class=\"data row20 col12\" >0</td>\n",
       "      <td id=\"T_2dca4_row20_col13\" class=\"data row20 col13\" >0</td>\n",
       "      <td id=\"T_2dca4_row20_col14\" class=\"data row20 col14\" >98</td>\n",
       "      <td id=\"T_2dca4_row20_col15\" class=\"data row20 col15\" >247</td>\n",
       "      <td id=\"T_2dca4_row20_col16\" class=\"data row20 col16\" >253</td>\n",
       "      <td id=\"T_2dca4_row20_col17\" class=\"data row20 col17\" >253</td>\n",
       "      <td id=\"T_2dca4_row20_col18\" class=\"data row20 col18\" >226</td>\n",
       "      <td id=\"T_2dca4_row20_col19\" class=\"data row20 col19\" >9</td>\n",
       "      <td id=\"T_2dca4_row20_col20\" class=\"data row20 col20\" >0</td>\n",
       "      <td id=\"T_2dca4_row20_col21\" class=\"data row20 col21\" >0</td>\n",
       "      <td id=\"T_2dca4_row20_col22\" class=\"data row20 col22\" >0</td>\n",
       "      <td id=\"T_2dca4_row20_col23\" class=\"data row20 col23\" >0</td>\n",
       "      <td id=\"T_2dca4_row20_col24\" class=\"data row20 col24\" >0</td>\n",
       "      <td id=\"T_2dca4_row20_col25\" class=\"data row20 col25\" >0</td>\n",
       "      <td id=\"T_2dca4_row20_col26\" class=\"data row20 col26\" >0</td>\n",
       "      <td id=\"T_2dca4_row20_col27\" class=\"data row20 col27\" >0</td>\n",
       "    </tr>\n",
       "    <tr>\n",
       "      <th id=\"T_2dca4_level0_row21\" class=\"row_heading level0 row21\" >21</th>\n",
       "      <td id=\"T_2dca4_row21_col0\" class=\"data row21 col0\" >0</td>\n",
       "      <td id=\"T_2dca4_row21_col1\" class=\"data row21 col1\" >0</td>\n",
       "      <td id=\"T_2dca4_row21_col2\" class=\"data row21 col2\" >0</td>\n",
       "      <td id=\"T_2dca4_row21_col3\" class=\"data row21 col3\" >0</td>\n",
       "      <td id=\"T_2dca4_row21_col4\" class=\"data row21 col4\" >0</td>\n",
       "      <td id=\"T_2dca4_row21_col5\" class=\"data row21 col5\" >0</td>\n",
       "      <td id=\"T_2dca4_row21_col6\" class=\"data row21 col6\" >0</td>\n",
       "      <td id=\"T_2dca4_row21_col7\" class=\"data row21 col7\" >0</td>\n",
       "      <td id=\"T_2dca4_row21_col8\" class=\"data row21 col8\" >0</td>\n",
       "      <td id=\"T_2dca4_row21_col9\" class=\"data row21 col9\" >0</td>\n",
       "      <td id=\"T_2dca4_row21_col10\" class=\"data row21 col10\" >0</td>\n",
       "      <td id=\"T_2dca4_row21_col11\" class=\"data row21 col11\" >0</td>\n",
       "      <td id=\"T_2dca4_row21_col12\" class=\"data row21 col12\" >42</td>\n",
       "      <td id=\"T_2dca4_row21_col13\" class=\"data row21 col13\" >150</td>\n",
       "      <td id=\"T_2dca4_row21_col14\" class=\"data row21 col14\" >252</td>\n",
       "      <td id=\"T_2dca4_row21_col15\" class=\"data row21 col15\" >253</td>\n",
       "      <td id=\"T_2dca4_row21_col16\" class=\"data row21 col16\" >253</td>\n",
       "      <td id=\"T_2dca4_row21_col17\" class=\"data row21 col17\" >233</td>\n",
       "      <td id=\"T_2dca4_row21_col18\" class=\"data row21 col18\" >53</td>\n",
       "      <td id=\"T_2dca4_row21_col19\" class=\"data row21 col19\" >0</td>\n",
       "      <td id=\"T_2dca4_row21_col20\" class=\"data row21 col20\" >0</td>\n",
       "      <td id=\"T_2dca4_row21_col21\" class=\"data row21 col21\" >0</td>\n",
       "      <td id=\"T_2dca4_row21_col22\" class=\"data row21 col22\" >0</td>\n",
       "      <td id=\"T_2dca4_row21_col23\" class=\"data row21 col23\" >0</td>\n",
       "      <td id=\"T_2dca4_row21_col24\" class=\"data row21 col24\" >0</td>\n",
       "      <td id=\"T_2dca4_row21_col25\" class=\"data row21 col25\" >0</td>\n",
       "      <td id=\"T_2dca4_row21_col26\" class=\"data row21 col26\" >0</td>\n",
       "      <td id=\"T_2dca4_row21_col27\" class=\"data row21 col27\" >0</td>\n",
       "    </tr>\n",
       "    <tr>\n",
       "      <th id=\"T_2dca4_level0_row22\" class=\"row_heading level0 row22\" >22</th>\n",
       "      <td id=\"T_2dca4_row22_col0\" class=\"data row22 col0\" >0</td>\n",
       "      <td id=\"T_2dca4_row22_col1\" class=\"data row22 col1\" >0</td>\n",
       "      <td id=\"T_2dca4_row22_col2\" class=\"data row22 col2\" >0</td>\n",
       "      <td id=\"T_2dca4_row22_col3\" class=\"data row22 col3\" >0</td>\n",
       "      <td id=\"T_2dca4_row22_col4\" class=\"data row22 col4\" >0</td>\n",
       "      <td id=\"T_2dca4_row22_col5\" class=\"data row22 col5\" >0</td>\n",
       "      <td id=\"T_2dca4_row22_col6\" class=\"data row22 col6\" >42</td>\n",
       "      <td id=\"T_2dca4_row22_col7\" class=\"data row22 col7\" >115</td>\n",
       "      <td id=\"T_2dca4_row22_col8\" class=\"data row22 col8\" >42</td>\n",
       "      <td id=\"T_2dca4_row22_col9\" class=\"data row22 col9\" >60</td>\n",
       "      <td id=\"T_2dca4_row22_col10\" class=\"data row22 col10\" >115</td>\n",
       "      <td id=\"T_2dca4_row22_col11\" class=\"data row22 col11\" >159</td>\n",
       "      <td id=\"T_2dca4_row22_col12\" class=\"data row22 col12\" >240</td>\n",
       "      <td id=\"T_2dca4_row22_col13\" class=\"data row22 col13\" >253</td>\n",
       "      <td id=\"T_2dca4_row22_col14\" class=\"data row22 col14\" >253</td>\n",
       "      <td id=\"T_2dca4_row22_col15\" class=\"data row22 col15\" >250</td>\n",
       "      <td id=\"T_2dca4_row22_col16\" class=\"data row22 col16\" >175</td>\n",
       "      <td id=\"T_2dca4_row22_col17\" class=\"data row22 col17\" >25</td>\n",
       "      <td id=\"T_2dca4_row22_col18\" class=\"data row22 col18\" >0</td>\n",
       "      <td id=\"T_2dca4_row22_col19\" class=\"data row22 col19\" >0</td>\n",
       "      <td id=\"T_2dca4_row22_col20\" class=\"data row22 col20\" >0</td>\n",
       "      <td id=\"T_2dca4_row22_col21\" class=\"data row22 col21\" >0</td>\n",
       "      <td id=\"T_2dca4_row22_col22\" class=\"data row22 col22\" >0</td>\n",
       "      <td id=\"T_2dca4_row22_col23\" class=\"data row22 col23\" >0</td>\n",
       "      <td id=\"T_2dca4_row22_col24\" class=\"data row22 col24\" >0</td>\n",
       "      <td id=\"T_2dca4_row22_col25\" class=\"data row22 col25\" >0</td>\n",
       "      <td id=\"T_2dca4_row22_col26\" class=\"data row22 col26\" >0</td>\n",
       "      <td id=\"T_2dca4_row22_col27\" class=\"data row22 col27\" >0</td>\n",
       "    </tr>\n",
       "    <tr>\n",
       "      <th id=\"T_2dca4_level0_row23\" class=\"row_heading level0 row23\" >23</th>\n",
       "      <td id=\"T_2dca4_row23_col0\" class=\"data row23 col0\" >0</td>\n",
       "      <td id=\"T_2dca4_row23_col1\" class=\"data row23 col1\" >0</td>\n",
       "      <td id=\"T_2dca4_row23_col2\" class=\"data row23 col2\" >0</td>\n",
       "      <td id=\"T_2dca4_row23_col3\" class=\"data row23 col3\" >0</td>\n",
       "      <td id=\"T_2dca4_row23_col4\" class=\"data row23 col4\" >0</td>\n",
       "      <td id=\"T_2dca4_row23_col5\" class=\"data row23 col5\" >0</td>\n",
       "      <td id=\"T_2dca4_row23_col6\" class=\"data row23 col6\" >187</td>\n",
       "      <td id=\"T_2dca4_row23_col7\" class=\"data row23 col7\" >253</td>\n",
       "      <td id=\"T_2dca4_row23_col8\" class=\"data row23 col8\" >253</td>\n",
       "      <td id=\"T_2dca4_row23_col9\" class=\"data row23 col9\" >253</td>\n",
       "      <td id=\"T_2dca4_row23_col10\" class=\"data row23 col10\" >253</td>\n",
       "      <td id=\"T_2dca4_row23_col11\" class=\"data row23 col11\" >253</td>\n",
       "      <td id=\"T_2dca4_row23_col12\" class=\"data row23 col12\" >253</td>\n",
       "      <td id=\"T_2dca4_row23_col13\" class=\"data row23 col13\" >253</td>\n",
       "      <td id=\"T_2dca4_row23_col14\" class=\"data row23 col14\" >197</td>\n",
       "      <td id=\"T_2dca4_row23_col15\" class=\"data row23 col15\" >86</td>\n",
       "      <td id=\"T_2dca4_row23_col16\" class=\"data row23 col16\" >0</td>\n",
       "      <td id=\"T_2dca4_row23_col17\" class=\"data row23 col17\" >0</td>\n",
       "      <td id=\"T_2dca4_row23_col18\" class=\"data row23 col18\" >0</td>\n",
       "      <td id=\"T_2dca4_row23_col19\" class=\"data row23 col19\" >0</td>\n",
       "      <td id=\"T_2dca4_row23_col20\" class=\"data row23 col20\" >0</td>\n",
       "      <td id=\"T_2dca4_row23_col21\" class=\"data row23 col21\" >0</td>\n",
       "      <td id=\"T_2dca4_row23_col22\" class=\"data row23 col22\" >0</td>\n",
       "      <td id=\"T_2dca4_row23_col23\" class=\"data row23 col23\" >0</td>\n",
       "      <td id=\"T_2dca4_row23_col24\" class=\"data row23 col24\" >0</td>\n",
       "      <td id=\"T_2dca4_row23_col25\" class=\"data row23 col25\" >0</td>\n",
       "      <td id=\"T_2dca4_row23_col26\" class=\"data row23 col26\" >0</td>\n",
       "      <td id=\"T_2dca4_row23_col27\" class=\"data row23 col27\" >0</td>\n",
       "    </tr>\n",
       "    <tr>\n",
       "      <th id=\"T_2dca4_level0_row24\" class=\"row_heading level0 row24\" >24</th>\n",
       "      <td id=\"T_2dca4_row24_col0\" class=\"data row24 col0\" >0</td>\n",
       "      <td id=\"T_2dca4_row24_col1\" class=\"data row24 col1\" >0</td>\n",
       "      <td id=\"T_2dca4_row24_col2\" class=\"data row24 col2\" >0</td>\n",
       "      <td id=\"T_2dca4_row24_col3\" class=\"data row24 col3\" >0</td>\n",
       "      <td id=\"T_2dca4_row24_col4\" class=\"data row24 col4\" >0</td>\n",
       "      <td id=\"T_2dca4_row24_col5\" class=\"data row24 col5\" >0</td>\n",
       "      <td id=\"T_2dca4_row24_col6\" class=\"data row24 col6\" >103</td>\n",
       "      <td id=\"T_2dca4_row24_col7\" class=\"data row24 col7\" >253</td>\n",
       "      <td id=\"T_2dca4_row24_col8\" class=\"data row24 col8\" >253</td>\n",
       "      <td id=\"T_2dca4_row24_col9\" class=\"data row24 col9\" >253</td>\n",
       "      <td id=\"T_2dca4_row24_col10\" class=\"data row24 col10\" >253</td>\n",
       "      <td id=\"T_2dca4_row24_col11\" class=\"data row24 col11\" >253</td>\n",
       "      <td id=\"T_2dca4_row24_col12\" class=\"data row24 col12\" >232</td>\n",
       "      <td id=\"T_2dca4_row24_col13\" class=\"data row24 col13\" >67</td>\n",
       "      <td id=\"T_2dca4_row24_col14\" class=\"data row24 col14\" >1</td>\n",
       "      <td id=\"T_2dca4_row24_col15\" class=\"data row24 col15\" >0</td>\n",
       "      <td id=\"T_2dca4_row24_col16\" class=\"data row24 col16\" >0</td>\n",
       "      <td id=\"T_2dca4_row24_col17\" class=\"data row24 col17\" >0</td>\n",
       "      <td id=\"T_2dca4_row24_col18\" class=\"data row24 col18\" >0</td>\n",
       "      <td id=\"T_2dca4_row24_col19\" class=\"data row24 col19\" >0</td>\n",
       "      <td id=\"T_2dca4_row24_col20\" class=\"data row24 col20\" >0</td>\n",
       "      <td id=\"T_2dca4_row24_col21\" class=\"data row24 col21\" >0</td>\n",
       "      <td id=\"T_2dca4_row24_col22\" class=\"data row24 col22\" >0</td>\n",
       "      <td id=\"T_2dca4_row24_col23\" class=\"data row24 col23\" >0</td>\n",
       "      <td id=\"T_2dca4_row24_col24\" class=\"data row24 col24\" >0</td>\n",
       "      <td id=\"T_2dca4_row24_col25\" class=\"data row24 col25\" >0</td>\n",
       "      <td id=\"T_2dca4_row24_col26\" class=\"data row24 col26\" >0</td>\n",
       "      <td id=\"T_2dca4_row24_col27\" class=\"data row24 col27\" >0</td>\n",
       "    </tr>\n",
       "    <tr>\n",
       "      <th id=\"T_2dca4_level0_row25\" class=\"row_heading level0 row25\" >25</th>\n",
       "      <td id=\"T_2dca4_row25_col0\" class=\"data row25 col0\" >0</td>\n",
       "      <td id=\"T_2dca4_row25_col1\" class=\"data row25 col1\" >0</td>\n",
       "      <td id=\"T_2dca4_row25_col2\" class=\"data row25 col2\" >0</td>\n",
       "      <td id=\"T_2dca4_row25_col3\" class=\"data row25 col3\" >0</td>\n",
       "      <td id=\"T_2dca4_row25_col4\" class=\"data row25 col4\" >0</td>\n",
       "      <td id=\"T_2dca4_row25_col5\" class=\"data row25 col5\" >0</td>\n",
       "      <td id=\"T_2dca4_row25_col6\" class=\"data row25 col6\" >0</td>\n",
       "      <td id=\"T_2dca4_row25_col7\" class=\"data row25 col7\" >0</td>\n",
       "      <td id=\"T_2dca4_row25_col8\" class=\"data row25 col8\" >0</td>\n",
       "      <td id=\"T_2dca4_row25_col9\" class=\"data row25 col9\" >0</td>\n",
       "      <td id=\"T_2dca4_row25_col10\" class=\"data row25 col10\" >0</td>\n",
       "      <td id=\"T_2dca4_row25_col11\" class=\"data row25 col11\" >0</td>\n",
       "      <td id=\"T_2dca4_row25_col12\" class=\"data row25 col12\" >0</td>\n",
       "      <td id=\"T_2dca4_row25_col13\" class=\"data row25 col13\" >0</td>\n",
       "      <td id=\"T_2dca4_row25_col14\" class=\"data row25 col14\" >0</td>\n",
       "      <td id=\"T_2dca4_row25_col15\" class=\"data row25 col15\" >0</td>\n",
       "      <td id=\"T_2dca4_row25_col16\" class=\"data row25 col16\" >0</td>\n",
       "      <td id=\"T_2dca4_row25_col17\" class=\"data row25 col17\" >0</td>\n",
       "      <td id=\"T_2dca4_row25_col18\" class=\"data row25 col18\" >0</td>\n",
       "      <td id=\"T_2dca4_row25_col19\" class=\"data row25 col19\" >0</td>\n",
       "      <td id=\"T_2dca4_row25_col20\" class=\"data row25 col20\" >0</td>\n",
       "      <td id=\"T_2dca4_row25_col21\" class=\"data row25 col21\" >0</td>\n",
       "      <td id=\"T_2dca4_row25_col22\" class=\"data row25 col22\" >0</td>\n",
       "      <td id=\"T_2dca4_row25_col23\" class=\"data row25 col23\" >0</td>\n",
       "      <td id=\"T_2dca4_row25_col24\" class=\"data row25 col24\" >0</td>\n",
       "      <td id=\"T_2dca4_row25_col25\" class=\"data row25 col25\" >0</td>\n",
       "      <td id=\"T_2dca4_row25_col26\" class=\"data row25 col26\" >0</td>\n",
       "      <td id=\"T_2dca4_row25_col27\" class=\"data row25 col27\" >0</td>\n",
       "    </tr>\n",
       "    <tr>\n",
       "      <th id=\"T_2dca4_level0_row26\" class=\"row_heading level0 row26\" >26</th>\n",
       "      <td id=\"T_2dca4_row26_col0\" class=\"data row26 col0\" >0</td>\n",
       "      <td id=\"T_2dca4_row26_col1\" class=\"data row26 col1\" >0</td>\n",
       "      <td id=\"T_2dca4_row26_col2\" class=\"data row26 col2\" >0</td>\n",
       "      <td id=\"T_2dca4_row26_col3\" class=\"data row26 col3\" >0</td>\n",
       "      <td id=\"T_2dca4_row26_col4\" class=\"data row26 col4\" >0</td>\n",
       "      <td id=\"T_2dca4_row26_col5\" class=\"data row26 col5\" >0</td>\n",
       "      <td id=\"T_2dca4_row26_col6\" class=\"data row26 col6\" >0</td>\n",
       "      <td id=\"T_2dca4_row26_col7\" class=\"data row26 col7\" >0</td>\n",
       "      <td id=\"T_2dca4_row26_col8\" class=\"data row26 col8\" >0</td>\n",
       "      <td id=\"T_2dca4_row26_col9\" class=\"data row26 col9\" >0</td>\n",
       "      <td id=\"T_2dca4_row26_col10\" class=\"data row26 col10\" >0</td>\n",
       "      <td id=\"T_2dca4_row26_col11\" class=\"data row26 col11\" >0</td>\n",
       "      <td id=\"T_2dca4_row26_col12\" class=\"data row26 col12\" >0</td>\n",
       "      <td id=\"T_2dca4_row26_col13\" class=\"data row26 col13\" >0</td>\n",
       "      <td id=\"T_2dca4_row26_col14\" class=\"data row26 col14\" >0</td>\n",
       "      <td id=\"T_2dca4_row26_col15\" class=\"data row26 col15\" >0</td>\n",
       "      <td id=\"T_2dca4_row26_col16\" class=\"data row26 col16\" >0</td>\n",
       "      <td id=\"T_2dca4_row26_col17\" class=\"data row26 col17\" >0</td>\n",
       "      <td id=\"T_2dca4_row26_col18\" class=\"data row26 col18\" >0</td>\n",
       "      <td id=\"T_2dca4_row26_col19\" class=\"data row26 col19\" >0</td>\n",
       "      <td id=\"T_2dca4_row26_col20\" class=\"data row26 col20\" >0</td>\n",
       "      <td id=\"T_2dca4_row26_col21\" class=\"data row26 col21\" >0</td>\n",
       "      <td id=\"T_2dca4_row26_col22\" class=\"data row26 col22\" >0</td>\n",
       "      <td id=\"T_2dca4_row26_col23\" class=\"data row26 col23\" >0</td>\n",
       "      <td id=\"T_2dca4_row26_col24\" class=\"data row26 col24\" >0</td>\n",
       "      <td id=\"T_2dca4_row26_col25\" class=\"data row26 col25\" >0</td>\n",
       "      <td id=\"T_2dca4_row26_col26\" class=\"data row26 col26\" >0</td>\n",
       "      <td id=\"T_2dca4_row26_col27\" class=\"data row26 col27\" >0</td>\n",
       "    </tr>\n",
       "    <tr>\n",
       "      <th id=\"T_2dca4_level0_row27\" class=\"row_heading level0 row27\" >27</th>\n",
       "      <td id=\"T_2dca4_row27_col0\" class=\"data row27 col0\" >0</td>\n",
       "      <td id=\"T_2dca4_row27_col1\" class=\"data row27 col1\" >0</td>\n",
       "      <td id=\"T_2dca4_row27_col2\" class=\"data row27 col2\" >0</td>\n",
       "      <td id=\"T_2dca4_row27_col3\" class=\"data row27 col3\" >0</td>\n",
       "      <td id=\"T_2dca4_row27_col4\" class=\"data row27 col4\" >0</td>\n",
       "      <td id=\"T_2dca4_row27_col5\" class=\"data row27 col5\" >0</td>\n",
       "      <td id=\"T_2dca4_row27_col6\" class=\"data row27 col6\" >0</td>\n",
       "      <td id=\"T_2dca4_row27_col7\" class=\"data row27 col7\" >0</td>\n",
       "      <td id=\"T_2dca4_row27_col8\" class=\"data row27 col8\" >0</td>\n",
       "      <td id=\"T_2dca4_row27_col9\" class=\"data row27 col9\" >0</td>\n",
       "      <td id=\"T_2dca4_row27_col10\" class=\"data row27 col10\" >0</td>\n",
       "      <td id=\"T_2dca4_row27_col11\" class=\"data row27 col11\" >0</td>\n",
       "      <td id=\"T_2dca4_row27_col12\" class=\"data row27 col12\" >0</td>\n",
       "      <td id=\"T_2dca4_row27_col13\" class=\"data row27 col13\" >0</td>\n",
       "      <td id=\"T_2dca4_row27_col14\" class=\"data row27 col14\" >0</td>\n",
       "      <td id=\"T_2dca4_row27_col15\" class=\"data row27 col15\" >0</td>\n",
       "      <td id=\"T_2dca4_row27_col16\" class=\"data row27 col16\" >0</td>\n",
       "      <td id=\"T_2dca4_row27_col17\" class=\"data row27 col17\" >0</td>\n",
       "      <td id=\"T_2dca4_row27_col18\" class=\"data row27 col18\" >0</td>\n",
       "      <td id=\"T_2dca4_row27_col19\" class=\"data row27 col19\" >0</td>\n",
       "      <td id=\"T_2dca4_row27_col20\" class=\"data row27 col20\" >0</td>\n",
       "      <td id=\"T_2dca4_row27_col21\" class=\"data row27 col21\" >0</td>\n",
       "      <td id=\"T_2dca4_row27_col22\" class=\"data row27 col22\" >0</td>\n",
       "      <td id=\"T_2dca4_row27_col23\" class=\"data row27 col23\" >0</td>\n",
       "      <td id=\"T_2dca4_row27_col24\" class=\"data row27 col24\" >0</td>\n",
       "      <td id=\"T_2dca4_row27_col25\" class=\"data row27 col25\" >0</td>\n",
       "      <td id=\"T_2dca4_row27_col26\" class=\"data row27 col26\" >0</td>\n",
       "      <td id=\"T_2dca4_row27_col27\" class=\"data row27 col27\" >0</td>\n",
       "    </tr>\n",
       "  </tbody>\n",
       "</table>\n"
      ],
      "text/plain": [
       "<pandas.io.formats.style.Styler at 0x7f9a74694710>"
      ]
     },
     "execution_count": 8,
     "metadata": {},
     "output_type": "execute_result"
    }
   ],
   "source": [
    "im3_t = tensor(im3)\n",
    "df = pd.DataFrame(im3_t)\n",
    "df.style.set_properties(**{\"font-size\":\"6pt\"}).background_gradient(\"Greys\") # 28*28 = 784"
   ]
  },
  {
   "cell_type": "markdown",
   "id": "beb88af5",
   "metadata": {},
   "source": [
    "## 4.2 픽셀 유사성"
   ]
  },
  {
   "cell_type": "code",
   "execution_count": 9,
   "id": "b3180bd6",
   "metadata": {},
   "outputs": [
    {
     "data": {
      "text/plain": [
       "(6131, 6265)"
      ]
     },
     "execution_count": 9,
     "metadata": {},
     "output_type": "execute_result"
    }
   ],
   "source": [
    "three_tensors = [tensor(Image.open(o)) for o in threes]\n",
    "seven_tensors = [tensor(Image.open(o)) for o in sevens]  # 해당 Path에서 데이터를 읽음\n",
    "len(three_tensors), len(seven_tensors)"
   ]
  },
  {
   "cell_type": "code",
   "execution_count": 10,
   "id": "4267b24d",
   "metadata": {},
   "outputs": [
    {
     "data": {
      "text/plain": [
       "<AxesSubplot:>"
      ]
     },
     "execution_count": 10,
     "metadata": {},
     "output_type": "execute_result"
    },
    {
     "data": {
      "image/png": "[encoded data removed]",
      "text/plain": [
       "<Figure size 216x216 with 1 Axes>"
      ]
     },
     "metadata": {
      "needs_background": "light"
     },
     "output_type": "display_data"
    }
   ],
   "source": [
    "fig, ax = plt.subplots(1, 1, figsize=(3, 3))\n",
    "\n",
    "show_image(three_tensors[1], ax=ax) # \"show_image\" function for tensor"
   ]
  },
  {
   "cell_type": "code",
   "execution_count": 11,
   "id": "4e5154be",
   "metadata": {},
   "outputs": [
    {
     "data": {
      "text/plain": [
       "torch.Size([6131, 28, 28])"
      ]
     },
     "execution_count": 11,
     "metadata": {},
     "output_type": "execute_result"
    }
   ],
   "source": [
    "stacked_sevens = torch.stack(seven_tensors).float()/255\n",
    "stacked_threes = torch.stack(three_tensors).float()/255\n",
    "stacked_threes.shape # the rank is 3"
   ]
  },
  {
   "cell_type": "code",
   "execution_count": 12,
   "id": "f7356db1",
   "metadata": {},
   "outputs": [
    {
     "data": {
      "text/plain": [
       "<AxesSubplot:>"
      ]
     },
     "execution_count": 12,
     "metadata": {},
     "output_type": "execute_result"
    },
    {
     "data": {
      "image/png": "[encoded data removed]",
      "text/plain": [
       "<Figure size 216x216 with 1 Axes>"
      ]
     },
     "metadata": {
      "needs_background": "light"
     },
     "output_type": "display_data"
    }
   ],
   "source": [
    "fig, ax = plt.subplots(1, 1, figsize=(3, 3))\n",
    "\n",
    "mean3 = stacked_threes.mean(0)\n",
    "show_image(mean3, ax=ax)"
   ]
  },
  {
   "cell_type": "code",
   "execution_count": 13,
   "id": "2f3c61c1",
   "metadata": {},
   "outputs": [
    {
     "data": {
      "text/plain": [
       "<AxesSubplot:>"
      ]
     },
     "execution_count": 13,
     "metadata": {},
     "output_type": "execute_result"
    },
    {
     "data": {
      "image/png": "[encoded data removed]",
      "text/plain": [
       "<Figure size 216x216 with 1 Axes>"
      ]
     },
     "metadata": {
      "needs_background": "light"
     },
     "output_type": "display_data"
    }
   ],
   "source": [
    "fig, ax = plt.subplots(1, 1, figsize=(3, 3))\n",
    "\n",
    "mean7 = stacked_sevens.mean(0)\n",
    "show_image(mean7, ax=ax)"
   ]
  },
  {
   "cell_type": "code",
   "execution_count": 14,
   "id": "23edd3e5",
   "metadata": {},
   "outputs": [],
   "source": [
    "a_3 = stacked_threes[1]"
   ]
  },
  {
   "cell_type": "markdown",
   "id": "49df1685",
   "metadata": {},
   "source": [
    "### Loss"
   ]
  },
  {
   "cell_type": "code",
   "execution_count": 15,
   "id": "5e87e6c5",
   "metadata": {},
   "outputs": [
    {
     "data": {
      "text/plain": [
       "(tensor(0.1114), tensor(0.2021))"
      ]
     },
     "execution_count": 15,
     "metadata": {},
     "output_type": "execute_result"
    }
   ],
   "source": [
    "dist_3_abs = (a_3 - mean3).abs().mean() # L1 Norm\n",
    "dist_3_sqr = ((a_3 - mean3)**2).mean().sqrt() # L2 Norm\n",
    "dist_3_abs, dist_3_sqr"
   ]
  },
  {
   "cell_type": "code",
   "execution_count": 16,
   "id": "79005374",
   "metadata": {},
   "outputs": [
    {
     "data": {
      "text/plain": [
       "(tensor(0.1586), tensor(0.3021))"
      ]
     },
     "execution_count": 16,
     "metadata": {},
     "output_type": "execute_result"
    }
   ],
   "source": [
    "dist_7_abs = (a_3 - mean7).abs().mean()\n",
    "dist_7_sqr = ((a_3 - mean7)**2).mean().sqrt()\n",
    "dist_7_abs, dist_7_sqr"
   ]
  },
  {
   "cell_type": "code",
   "execution_count": 17,
   "id": "c476754c",
   "metadata": {},
   "outputs": [
    {
     "data": {
      "text/plain": [
       "(tensor(0.1586), tensor(0.3021))"
      ]
     },
     "execution_count": 17,
     "metadata": {},
     "output_type": "execute_result"
    }
   ],
   "source": [
    "F.l1_loss(a_3, mean7), F.mse_loss(a_3, mean7).sqrt() # torch.nn.functional"
   ]
  },
  {
   "cell_type": "markdown",
   "id": "ca9d771f",
   "metadata": {},
   "source": [
    "## 4.3 브로드캐스팅으로 평가지표 계산하기"
   ]
  },
  {
   "cell_type": "code",
   "execution_count": 18,
   "id": "a015450a",
   "metadata": {},
   "outputs": [
    {
     "data": {
      "text/plain": [
       "(torch.Size([1010, 28, 28]), torch.Size([1028, 28, 28]))"
      ]
     },
     "execution_count": 18,
     "metadata": {},
     "output_type": "execute_result"
    }
   ],
   "source": [
    "valid_3_tens = torch.stack([tensor(Image.open(o)) for o in (path/\"valid\"/\"3\").ls()])\n",
    "valid_3_tens = valid_3_tens.float() / 255\n",
    "valid_7_tens = torch.stack([tensor(Image.open(o)) for o in (path/\"valid\"/\"7\").ls()])\n",
    "valid_7_tens = valid_7_tens.float() / 255\n",
    "\n",
    "valid_3_tens.shape, valid_7_tens.shape"
   ]
  },
  {
   "cell_type": "markdown",
   "id": "2a76a5c9",
   "metadata": {},
   "source": [
    "### 단일 이미지"
   ]
  },
  {
   "cell_type": "code",
   "execution_count": 19,
   "id": "11b96352",
   "metadata": {},
   "outputs": [
    {
     "data": {
      "text/plain": [
       "tensor(0.1114)"
      ]
     },
     "execution_count": 19,
     "metadata": {},
     "output_type": "execute_result"
    }
   ],
   "source": [
    "def mnist_distance(a, b):\n",
    "    return (a-b).abs().mean((-1, -2))  # 축을 의미(가로, 세로)\n",
    "\n",
    "mnist_distance(a_3, mean3)"
   ]
  },
  {
   "cell_type": "markdown",
   "id": "a47dbd25",
   "metadata": {},
   "source": [
    "### 복수 이미지(브로드캐스팅)"
   ]
  },
  {
   "cell_type": "code",
   "execution_count": 20,
   "id": "edf0e8a9",
   "metadata": {},
   "outputs": [
    {
     "data": {
      "text/plain": [
       "(tensor([0.1922, 0.1915, 0.1488,  ..., 0.1534, 0.1623, 0.1863]),\n",
       " torch.Size([1028]))"
      ]
     },
     "execution_count": 20,
     "metadata": {},
     "output_type": "execute_result"
    }
   ],
   "source": [
    "valid_3_dist = mnist_distance(valid_7_tens, mean3)  # 브로드캐스팅\n",
    "valid_3_dist, valid_3_dist.shape"
   ]
  },
  {
   "cell_type": "code",
   "execution_count": 21,
   "id": "6d639bb6",
   "metadata": {},
   "outputs": [
    {
     "data": {
      "text/plain": [
       "torch.Size([1028, 28, 28])"
      ]
     },
     "execution_count": 21,
     "metadata": {},
     "output_type": "execute_result"
    }
   ],
   "source": [
    "(valid_7_tens - mean3).shape  # 랭크 낮은 텐서를 높은 텐서로 맞춤"
   ]
  },
  {
   "cell_type": "markdown",
   "id": "351346b5",
   "metadata": {},
   "source": [
    "### 평가"
   ]
  },
  {
   "cell_type": "code",
   "execution_count": 22,
   "id": "3e00b60b",
   "metadata": {},
   "outputs": [
    {
     "data": {
      "text/plain": [
       "(tensor(True), tensor(1.))"
      ]
     },
     "execution_count": 22,
     "metadata": {},
     "output_type": "execute_result"
    }
   ],
   "source": [
    "def is_3(x):\n",
    "    return mnist_distance(x, mean3) < mnist_distance(x, mean7)\n",
    "\n",
    "is_3(a_3), is_3(a_3).float()"
   ]
  },
  {
   "cell_type": "code",
   "execution_count": 23,
   "id": "9d155f89",
   "metadata": {},
   "outputs": [
    {
     "data": {
      "text/plain": [
       "tensor([True, True, True,  ..., True, True, True])"
      ]
     },
     "execution_count": 23,
     "metadata": {},
     "output_type": "execute_result"
    }
   ],
   "source": [
    "is_3(valid_3_tens)  # 브로드캐스팅"
   ]
  },
  {
   "cell_type": "code",
   "execution_count": 24,
   "id": "bc292a40",
   "metadata": {},
   "outputs": [
    {
     "data": {
      "text/plain": [
       "(tensor(0.9168), tensor(0.9854), tensor(0.9511))"
      ]
     },
     "execution_count": 24,
     "metadata": {},
     "output_type": "execute_result"
    }
   ],
   "source": [
    "accuracy_3 = is_3(valid_3_tens).float().mean()\n",
    "accuracy_7 = (1 - is_3(valid_7_tens).float()).mean()\n",
    "\n",
    "accuracy_3, accuracy_7, (accuracy_3+accuracy_7)/2"
   ]
  },
  {
   "cell_type": "markdown",
   "id": "d04e0dcd",
   "metadata": {},
   "source": [
    "## 4.4 확률적 경사 하강법"
   ]
  },
  {
   "cell_type": "markdown",
   "id": "fc5e247d",
   "metadata": {},
   "source": [
    "### 스칼라"
   ]
  },
  {
   "cell_type": "code",
   "execution_count": 25,
   "id": "7ca6959d",
   "metadata": {},
   "outputs": [],
   "source": [
    "def f(x):\n",
    "    return x**2\n",
    "\n",
    "xt = tensor(3.).requires_grad_()"
   ]
  },
  {
   "cell_type": "code",
   "execution_count": 26,
   "id": "ee230483",
   "metadata": {},
   "outputs": [
    {
     "data": {
      "text/plain": [
       "tensor(9., grad_fn=<PowBackward0>)"
      ]
     },
     "execution_count": 26,
     "metadata": {},
     "output_type": "execute_result"
    }
   ],
   "source": [
    "yt = f(xt)\n",
    "yt"
   ]
  },
  {
   "cell_type": "code",
   "execution_count": 27,
   "id": "27b3bc6b",
   "metadata": {},
   "outputs": [],
   "source": [
    "yt.backward()  # 그레이디언트 계산"
   ]
  },
  {
   "cell_type": "code",
   "execution_count": 28,
   "id": "6b6ad648",
   "metadata": {},
   "outputs": [
    {
     "data": {
      "text/plain": [
       "tensor(6.)"
      ]
     },
     "execution_count": 28,
     "metadata": {},
     "output_type": "execute_result"
    }
   ],
   "source": [
    "xt.grad"
   ]
  },
  {
   "cell_type": "markdown",
   "id": "49864610",
   "metadata": {},
   "source": [
    "### 백터"
   ]
  },
  {
   "cell_type": "code",
   "execution_count": 29,
   "id": "fc75e634",
   "metadata": {},
   "outputs": [
    {
     "data": {
      "text/plain": [
       "tensor([3., 4., 5.], requires_grad=True)"
      ]
     },
     "execution_count": 29,
     "metadata": {},
     "output_type": "execute_result"
    }
   ],
   "source": [
    "def f(x):\n",
    "    return (x**2).sum()\n",
    "\n",
    "xt = tensor([3., 4., 5.]).requires_grad_()\n",
    "xt"
   ]
  },
  {
   "cell_type": "code",
   "execution_count": 30,
   "id": "92deac3b",
   "metadata": {},
   "outputs": [],
   "source": [
    "yt = f(xt)\n",
    "yt.backward()"
   ]
  },
  {
   "cell_type": "code",
   "execution_count": 31,
   "id": "cb13dc85",
   "metadata": {},
   "outputs": [
    {
     "data": {
      "text/plain": [
       "tensor([ 6.,  8., 10.])"
      ]
     },
     "execution_count": 31,
     "metadata": {},
     "output_type": "execute_result"
    }
   ],
   "source": [
    "xt.grad"
   ]
  },
  {
   "cell_type": "markdown",
   "id": "5bae575b",
   "metadata": {},
   "source": [
    "### SGD 예제"
   ]
  },
  {
   "cell_type": "code",
   "execution_count": 32,
   "id": "1b4e315a",
   "metadata": {},
   "outputs": [
    {
     "data": {
      "text/plain": [
       "tensor([ 0.,  1.,  2.,  3.,  4.,  5.,  6.,  7.,  8.,  9., 10., 11., 12., 13.,\n",
       "        14., 15., 16., 17., 18., 19.])"
      ]
     },
     "execution_count": 32,
     "metadata": {},
     "output_type": "execute_result"
    }
   ],
   "source": [
    "time = torch.arange(0, 20).float()\n",
    "time"
   ]
  },
  {
   "cell_type": "code",
   "execution_count": 33,
   "id": "72acdcd6",
   "metadata": {},
   "outputs": [
    {
     "data": {
      "image/png": "[encoded data removed]",
      "text/plain": [
       "<Figure size 432x288 with 1 Axes>"
      ]
     },
     "metadata": {
      "needs_background": "light"
     },
     "output_type": "display_data"
    }
   ],
   "source": [
    "# 데이터 만들기\n",
    "speed = torch.randn(20)*3 + 0.75*(time-9.5)**2 + 1\n",
    "plt.scatter(time,speed);"
   ]
  },
  {
   "cell_type": "code",
   "execution_count": 34,
   "id": "b08180dd",
   "metadata": {},
   "outputs": [],
   "source": [
    "def f(t, params):  # 가설\n",
    "    a, b, c = params\n",
    "    return a * (t**2) + (b*t) + c"
   ]
  },
  {
   "cell_type": "code",
   "execution_count": 35,
   "id": "59831cac",
   "metadata": {},
   "outputs": [],
   "source": [
    "def mse(preds, targets):  # 손실함수\n",
    "    return ((preds-targets)**2).mean().sqrt()"
   ]
  },
  {
   "cell_type": "code",
   "execution_count": 36,
   "id": "cb06518e",
   "metadata": {},
   "outputs": [],
   "source": [
    "## 임의의 값으로 파라미터 초기화\n",
    "params = torch.randn(3).requires_grad_()\n",
    "\n",
    "## 예측 계산\n",
    "preds = f(time, params)\n",
    "\n",
    "## 유사도 확인 함수\n",
    "def show_preds(preds, ax=None):\n",
    "    if ax is None:\n",
    "        _, ax = plt.subplots(1, 1, figsize=(5, 5))\n",
    "    ax.scatter(time, speed)\n",
    "    ax.scatter(time, to_np(preds), color=\"red\")\n",
    "    ax.set_ylim(-300, 100)"
   ]
  },
  {
   "cell_type": "code",
   "execution_count": 37,
   "id": "1c2338bc",
   "metadata": {},
   "outputs": [
    {
     "data": {
      "image/png": "[encoded data removed]",
      "text/plain": [
       "<Figure size 360x360 with 1 Axes>"
      ]
     },
     "metadata": {
      "needs_background": "light"
     },
     "output_type": "display_data"
    }
   ],
   "source": [
    "show_preds(preds)"
   ]
  },
  {
   "cell_type": "code",
   "execution_count": 38,
   "id": "c251ae1a",
   "metadata": {},
   "outputs": [
    {
     "name": "stdout",
     "output_type": "stream",
     "text": [
      "tensor(266.6283, grad_fn=<SqrtBackward0>)\n",
      "tensor([-166.9842,  -10.7226,   -0.7691])\n"
     ]
    }
   ],
   "source": [
    "## 손실 계산\n",
    "loss = mse(preds, speed)\n",
    "print(loss)\n",
    "\n",
    "# 그레이디언트 계산\n",
    "loss.backward()\n",
    "print(params.grad)\n",
    "\n",
    "# 가중치 갱신\n",
    "lr = 1e-5\n",
    "params.data -= lr * params.grad.data\n",
    "params.grad = None"
   ]
  },
  {
   "cell_type": "code",
   "execution_count": 39,
   "id": "643cd9c8",
   "metadata": {},
   "outputs": [
    {
     "data": {
      "text/plain": [
       "tensor(266.3483, grad_fn=<SqrtBackward0>)"
      ]
     },
     "execution_count": 39,
     "metadata": {},
     "output_type": "execute_result"
    }
   ],
   "source": [
    "preds = f(time, params)\n",
    "mse(preds, speed)"
   ]
  },
  {
   "cell_type": "code",
   "execution_count": 40,
   "id": "125470f9",
   "metadata": {},
   "outputs": [
    {
     "data": {
      "image/png": "[encoded data removed]",
      "text/plain": [
       "<Figure size 360x360 with 1 Axes>"
      ]
     },
     "metadata": {
      "needs_background": "light"
     },
     "output_type": "display_data"
    }
   ],
   "source": [
    "show_preds(preds)"
   ]
  },
  {
   "cell_type": "code",
   "execution_count": 41,
   "id": "e5d15adb",
   "metadata": {},
   "outputs": [],
   "source": [
    "## 과정 반복하기\n",
    "def apply_step(params, prn=True):\n",
    "    preds = f(time, params)\n",
    "    loss = mse(preds, speed)\n",
    "    loss.backward()\n",
    "    params.data -= lr * params.grad.data\n",
    "    params.grad = None\n",
    "    \n",
    "    if prn:\n",
    "        print(loss.item())\n",
    "    return preds\n",
    "\n",
    "# for i in range(10):\n",
    "#     apply_step(params)"
   ]
  },
  {
   "cell_type": "code",
   "execution_count": 42,
   "id": "0be8617b",
   "metadata": {},
   "outputs": [
    {
     "data": {
      "image/png": "[encoded data removed]",
      "text/plain": [
       "<Figure size 2160x216 with 10 Axes>"
      ]
     },
     "metadata": {
      "needs_background": "light"
     },
     "output_type": "display_data"
    }
   ],
   "source": [
    "_, axes = plt.subplots(1, 10, figsize=(30, 3))\n",
    "for ax in axes:\n",
    "    preds = apply_step(params, prn=False)\n",
    "    show_preds(preds, ax)"
   ]
  },
  {
   "cell_type": "markdown",
   "id": "d0ecec2c",
   "metadata": {},
   "source": [
    "## 4.5 MNIST 손실함수"
   ]
  },
  {
   "cell_type": "markdown",
   "id": "40e29850",
   "metadata": {},
   "source": [
    "### Train and validation dataset"
   ]
  },
  {
   "cell_type": "code",
   "execution_count": 43,
   "id": "2eaaaf82",
   "metadata": {},
   "outputs": [
    {
     "data": {
      "text/plain": [
       "tensor([[0., 0., 0.,  ..., 0., 0., 0.],\n",
       "        [0., 0., 0.,  ..., 0., 0., 0.],\n",
       "        [0., 0., 0.,  ..., 0., 0., 0.],\n",
       "        ...,\n",
       "        [0., 0., 0.,  ..., 0., 0., 0.],\n",
       "        [0., 0., 0.,  ..., 0., 0., 0.],\n",
       "        [0., 0., 0.,  ..., 0., 0., 0.]])"
      ]
     },
     "execution_count": 43,
     "metadata": {},
     "output_type": "execute_result"
    }
   ],
   "source": [
    "train_x = torch.cat([stacked_threes, stacked_sevens]).view(-1, 28*28)  # rank 3 -> 2\n",
    "train_x"
   ]
  },
  {
   "cell_type": "code",
   "execution_count": 44,
   "id": "8510b25d",
   "metadata": {},
   "outputs": [],
   "source": [
    "train_y = tensor([1]*len(threes) + [0]*len(sevens)).unsqueeze(dim=1)  # rank 1 -> 2, train_x와 차원이 동일해 짐"
   ]
  },
  {
   "cell_type": "code",
   "execution_count": 45,
   "id": "71536752",
   "metadata": {},
   "outputs": [
    {
     "data": {
      "text/plain": [
       "(torch.Size([784]), tensor([1]))"
      ]
     },
     "execution_count": 45,
     "metadata": {},
     "output_type": "execute_result"
    }
   ],
   "source": [
    "dset = list(zip(train_x, train_y))\n",
    "x, y = dset[0]\n",
    "\n",
    "x.shape, y"
   ]
  },
  {
   "cell_type": "code",
   "execution_count": 46,
   "id": "84434a41",
   "metadata": {},
   "outputs": [],
   "source": [
    "valid_x = torch.cat([valid_3_tens, valid_7_tens]).view(-1, 28*28)\n",
    "valid_y = tensor([1]*len(valid_3_tens) + [0]*len(valid_7_tens)).unsqueeze(1)\n",
    "valid_dset = list(zip(valid_x, valid_y))"
   ]
  },
  {
   "cell_type": "markdown",
   "id": "10e536d5",
   "metadata": {},
   "source": [
    "### Initial parameters"
   ]
  },
  {
   "cell_type": "code",
   "execution_count": 47,
   "id": "aa6c1a2e",
   "metadata": {},
   "outputs": [],
   "source": [
    "def init_params(size, std=1.0):\n",
    "    return (torch.randn(size)*std).requires_grad_()\n",
    "\n",
    "weights = init_params((28*28), 1)"
   ]
  },
  {
   "cell_type": "code",
   "execution_count": 48,
   "id": "50dbd435",
   "metadata": {},
   "outputs": [],
   "source": [
    "bias = init_params(1)"
   ]
  },
  {
   "cell_type": "markdown",
   "id": "a6cab4c8",
   "metadata": {},
   "source": [
    "### Prediction"
   ]
  },
  {
   "cell_type": "code",
   "execution_count": 49,
   "id": "69791275",
   "metadata": {},
   "outputs": [
    {
     "data": {
      "text/plain": [
       "tensor([-8.9805], grad_fn=<AddBackward0>)"
      ]
     },
     "execution_count": 49,
     "metadata": {},
     "output_type": "execute_result"
    }
   ],
   "source": [
    "(train_x[0] * weights.T).sum() + bias"
   ]
  },
  {
   "cell_type": "code",
   "execution_count": 50,
   "id": "5a3e46e3",
   "metadata": {},
   "outputs": [
    {
     "data": {
      "text/plain": [
       "(torch.Size([12396, 784]), torch.Size([784]))"
      ]
     },
     "execution_count": 50,
     "metadata": {},
     "output_type": "execute_result"
    }
   ],
   "source": [
    "# shape\n",
    "train_x.shape, weights.shape"
   ]
  },
  {
   "cell_type": "code",
   "execution_count": 51,
   "id": "1ffadf5c",
   "metadata": {},
   "outputs": [
    {
     "data": {
      "text/plain": [
       "tensor([-8.9805, -0.1554,  3.1238,  ..., -4.3176,  8.6162,  2.4116],\n",
       "       grad_fn=<AddBackward0>)"
      ]
     },
     "execution_count": 51,
     "metadata": {},
     "output_type": "execute_result"
    }
   ],
   "source": [
    "def linear1(xb):\n",
    "    return xb@weights + bias  # 행렬 곱\n",
    "\n",
    "preds = linear1(train_x)\n",
    "preds"
   ]
  },
  {
   "cell_type": "code",
   "execution_count": 52,
   "id": "0857715a",
   "metadata": {},
   "outputs": [
    {
     "data": {
      "text/plain": [
       "tensor([[False, False,  True,  ..., False,  True,  True],\n",
       "        [False, False,  True,  ..., False,  True,  True],\n",
       "        [False, False,  True,  ..., False,  True,  True],\n",
       "        ...,\n",
       "        [ True,  True, False,  ...,  True, False, False],\n",
       "        [ True,  True, False,  ...,  True, False, False],\n",
       "        [ True,  True, False,  ...,  True, False, False]])"
      ]
     },
     "execution_count": 52,
     "metadata": {},
     "output_type": "execute_result"
    }
   ],
   "source": [
    "corrects = (preds > 0.5).float() == train_y\n",
    "corrects"
   ]
  },
  {
   "cell_type": "code",
   "execution_count": 53,
   "id": "ff108d97",
   "metadata": {},
   "outputs": [
    {
     "data": {
      "text/plain": [
       "0.49985000491142273"
      ]
     },
     "execution_count": 53,
     "metadata": {},
     "output_type": "execute_result"
    }
   ],
   "source": [
    "corrects.float().mean().item()  # 정확도, weight가 조금 바뀐다고 해서 정확도가 변화하지는 않으므로 좋은 손실함수로 보긴 어려움"
   ]
  },
  {
   "cell_type": "markdown",
   "id": "66c8cdb2",
   "metadata": {},
   "source": [
    "### Loss fuction"
   ]
  },
  {
   "cell_type": "code",
   "execution_count": 54,
   "id": "8238f8c9",
   "metadata": {},
   "outputs": [],
   "source": [
    "def mnist_loss(predictions, targets):\n",
    "    return torch.where(targets==1, 1-predictions, predictions).mean()"
   ]
  },
  {
   "cell_type": "code",
   "execution_count": 55,
   "id": "08463415",
   "metadata": {},
   "outputs": [
    {
     "data": {
      "text/plain": [
       "tensor(0.4333)"
      ]
     },
     "execution_count": 55,
     "metadata": {},
     "output_type": "execute_result"
    }
   ],
   "source": [
    "# loss example\n",
    "targets = tensor([1, 0, 1])\n",
    "preds = tensor([0.9, 0.4, 0.2])\n",
    "\n",
    "mnist_loss(preds, targets)"
   ]
  },
  {
   "cell_type": "code",
   "execution_count": 56,
   "id": "c28e1e0e",
   "metadata": {},
   "outputs": [],
   "source": [
    "def sigmoid(x):\n",
    "    return 1/(1+torch.exp(-x))\n",
    "\n",
    "def mnist_loss(predictions, targets):\n",
    "    predictions = predictions.sigmoid()\n",
    "    return torch.where(targets==1, 1-predictions, predictions).mean()  # 0 ~ 1"
   ]
  },
  {
   "cell_type": "markdown",
   "id": "8bea1214",
   "metadata": {},
   "source": [
    "### Minibatch"
   ]
  },
  {
   "cell_type": "code",
   "execution_count": 57,
   "id": "11a7c34b",
   "metadata": {},
   "outputs": [
    {
     "data": {
      "text/plain": [
       "[tensor([9, 7, 0, 1, 2]),\n",
       " tensor([13, 10, 12, 14,  3]),\n",
       " tensor([ 5,  4,  8, 11,  6])]"
      ]
     },
     "execution_count": 57,
     "metadata": {},
     "output_type": "execute_result"
    }
   ],
   "source": [
    "coll = range(15)\n",
    "dl = DataLoader(coll, batch_size=5, shuffle=True)\n",
    "list(dl)"
   ]
  },
  {
   "cell_type": "code",
   "execution_count": 58,
   "id": "78c722d0",
   "metadata": {},
   "outputs": [
    {
     "data": {
      "text/plain": [
       "(#26) [(0, 'a'),(1, 'b'),(2, 'c'),(3, 'd'),(4, 'e'),(5, 'f'),(6, 'g'),(7, 'h'),(8, 'i'),(9, 'j')...]"
      ]
     },
     "execution_count": 58,
     "metadata": {},
     "output_type": "execute_result"
    }
   ],
   "source": [
    "ds = L(enumerate(string.ascii_lowercase))  # L은 list의 wapper로 보임\n",
    "ds"
   ]
  },
  {
   "cell_type": "code",
   "execution_count": 59,
   "id": "a67d20ed",
   "metadata": {},
   "outputs": [
    {
     "data": {
      "text/plain": [
       "[(tensor([22,  9, 13, 16,  7, 21]), ('w', 'j', 'n', 'q', 'h', 'v')),\n",
       " (tensor([ 3, 18,  6,  8,  2, 15]), ('d', 's', 'g', 'i', 'c', 'p')),\n",
       " (tensor([20, 24, 23,  0,  5, 10]), ('u', 'y', 'x', 'a', 'f', 'k')),\n",
       " (tensor([11,  1, 19, 25, 12,  4]), ('l', 'b', 't', 'z', 'm', 'e')),\n",
       " (tensor([14, 17]), ('o', 'r'))]"
      ]
     },
     "execution_count": 59,
     "metadata": {},
     "output_type": "execute_result"
    }
   ],
   "source": [
    "dl = DataLoader(ds, batch_size=6, shuffle=True)\n",
    "list(dl)"
   ]
  },
  {
   "cell_type": "markdown",
   "id": "f6b3735e",
   "metadata": {},
   "source": [
    "## 4.6 모든 것을 한 자리에\n",
    "\n",
    "### Snippet"
   ]
  },
  {
   "cell_type": "code",
   "execution_count": 60,
   "id": "b66fb0ee",
   "metadata": {},
   "outputs": [
    {
     "data": {
      "text/plain": [
       "(torch.Size([256, 784]), torch.Size([256, 1]))"
      ]
     },
     "execution_count": 60,
     "metadata": {},
     "output_type": "execute_result"
    }
   ],
   "source": [
    "# epoch\n",
    "# for x, y in dl:\n",
    "#     pred = model(x)  # not defined yet\n",
    "#     loss = loss_func(pred, y)\n",
    "#     loss.backward()\n",
    "#     parameters -= lr * parameters\n",
    "\n",
    "# initialize \n",
    "weights = init_params((28*28, 1))\n",
    "bias = init_params(1)\n",
    "\n",
    "# dataloader\n",
    "dl = DataLoader(dset, batch_size=256)\n",
    "valid_dl = DataLoader(valid_dset, batch_size=256)\n",
    "\n",
    "xb, yb = first(dl)\n",
    "xb.shape, yb.shape"
   ]
  },
  {
   "cell_type": "code",
   "execution_count": 61,
   "id": "83117d7c",
   "metadata": {},
   "outputs": [
    {
     "data": {
      "text/plain": [
       "torch.Size([4, 784])"
      ]
     },
     "execution_count": 61,
     "metadata": {},
     "output_type": "execute_result"
    }
   ],
   "source": [
    "# 크기가 4인 미니배치로 간단한 테스트 하기\n",
    "batch = train_x[:4]\n",
    "batch.shape"
   ]
  },
  {
   "cell_type": "code",
   "execution_count": 62,
   "id": "a16a5661",
   "metadata": {},
   "outputs": [
    {
     "data": {
      "text/plain": [
       "tensor([[-16.6270],\n",
       "        [-19.2261],\n",
       "        [-17.1906],\n",
       "        [ -8.6423]], grad_fn=<AddBackward0>)"
      ]
     },
     "execution_count": 62,
     "metadata": {},
     "output_type": "execute_result"
    }
   ],
   "source": [
    "preds = linear1(batch)\n",
    "preds"
   ]
  },
  {
   "cell_type": "code",
   "execution_count": 63,
   "id": "80cb858d",
   "metadata": {},
   "outputs": [
    {
     "data": {
      "text/plain": [
       "tensor(1.0000, grad_fn=<MeanBackward0>)"
      ]
     },
     "execution_count": 63,
     "metadata": {},
     "output_type": "execute_result"
    }
   ],
   "source": [
    "loss = mnist_loss(preds, train_y[:4])\n",
    "loss"
   ]
  },
  {
   "cell_type": "code",
   "execution_count": 64,
   "id": "135acbf5",
   "metadata": {},
   "outputs": [
    {
     "data": {
      "text/plain": [
       "(torch.Size([784, 1]), tensor(-7.7602e-06), tensor([-4.4131e-05]))"
      ]
     },
     "execution_count": 64,
     "metadata": {},
     "output_type": "execute_result"
    }
   ],
   "source": [
    "loss.backward()\n",
    "weights.grad.shape, weights.grad.mean(), bias.grad"
   ]
  },
  {
   "cell_type": "markdown",
   "id": "843e1b28",
   "metadata": {},
   "source": [
    "### 함수로 구현하기(핵심 내용)"
   ]
  },
  {
   "cell_type": "code",
   "execution_count": 65,
   "id": "e0991d63",
   "metadata": {},
   "outputs": [],
   "source": [
    "def calc_grad(xb, yb, model):\n",
    "    preds = model(xb)\n",
    "    loss = mnist_loss(preds, yb)\n",
    "    loss.backward()\n",
    "    \n",
    "def train_epoch(model, lr, params):\n",
    "    for xb, yb in dl:\n",
    "        calc_grad(xb, yb, model)\n",
    "        for p in params:\n",
    "            p.data -= p.grad * lr\n",
    "            p.grad.zero_()\n",
    "            \n",
    "def batch_accuracy(xb, yb):\n",
    "    preds = xb.sigmoid()\n",
    "    correct = (preds > 0.5) == yb\n",
    "    return correct.float().mean()\n",
    "\n",
    "def validate_epoch(model):\n",
    "    accs = [batch_accuracy(model(xb), yb) for xb, yb in valid_dl]\n",
    "    return round(torch.stack(accs).mean().item(), 4)"
   ]
  },
  {
   "cell_type": "code",
   "execution_count": 66,
   "id": "354a523f",
   "metadata": {},
   "outputs": [
    {
     "data": {
      "text/plain": [
       "(tensor(-7.7602e-06), tensor([-4.4131e-05]))"
      ]
     },
     "execution_count": 66,
     "metadata": {},
     "output_type": "execute_result"
    }
   ],
   "source": [
    "weights.grad.zero_()  # grad를 누적하기 때문에 미리 0으로 설정해야 함\n",
    "bias.grad.zero_()\n",
    "\n",
    "calc_grad(batch, train_y[:4], linear1)\n",
    "weights.grad.mean(), bias.grad  # 함수 사용 전의 값도 동일함"
   ]
  },
  {
   "cell_type": "code",
   "execution_count": 67,
   "id": "c6a5476c",
   "metadata": {},
   "outputs": [
    {
     "data": {
      "text/plain": [
       "tensor(0.)"
      ]
     },
     "execution_count": 67,
     "metadata": {},
     "output_type": "execute_result"
    }
   ],
   "source": [
    "batch_accuracy(linear1(batch), train_y[:4])"
   ]
  },
  {
   "cell_type": "code",
   "execution_count": 68,
   "id": "a144e383",
   "metadata": {},
   "outputs": [
    {
     "data": {
      "text/plain": [
       "0.31"
      ]
     },
     "execution_count": 68,
     "metadata": {},
     "output_type": "execute_result"
    }
   ],
   "source": [
    "validate_epoch(linear1)"
   ]
  },
  {
   "cell_type": "code",
   "execution_count": 69,
   "id": "cd58eb38",
   "metadata": {},
   "outputs": [
    {
     "data": {
      "text/plain": [
       "0.4888"
      ]
     },
     "execution_count": 69,
     "metadata": {},
     "output_type": "execute_result"
    }
   ],
   "source": [
    "# epoch 반복하기\n",
    "\n",
    "lr = 1.\n",
    "params = weights, bias\n",
    "train_epoch(linear1, lr, params)\n",
    "validate_epoch(linear1)"
   ]
  },
  {
   "cell_type": "code",
   "execution_count": 70,
   "id": "d9e123df",
   "metadata": {},
   "outputs": [
    {
     "name": "stdout",
     "output_type": "stream",
     "text": [
      "0.4922 0.4932 0.5987 0.6683 0.8485 0.9213 0.9394 0.9481 0.956 0.9613 0.9637 0.9657 0.9657 0.9667 0.9696 0.9706 0.9716 0.9721 0.9721 0.9726 "
     ]
    }
   ],
   "source": [
    "for i in range(20):\n",
    "    train_epoch(linear1, lr, params)\n",
    "    print(validate_epoch(linear1), end=\" \")"
   ]
  },
  {
   "cell_type": "markdown",
   "id": "0c8b76a9",
   "metadata": {},
   "source": [
    "### Optimizer with nn.module"
   ]
  },
  {
   "cell_type": "code",
   "execution_count": 71,
   "id": "e53abefa",
   "metadata": {},
   "outputs": [
    {
     "data": {
      "text/plain": [
       "(torch.Size([1, 784]), torch.Size([1]))"
      ]
     },
     "execution_count": 71,
     "metadata": {},
     "output_type": "execute_result"
    }
   ],
   "source": [
    "linear_model = nn.Linear(28*28, 1)  # nn모듈은 학습 파라미터를 내장하고 있음\n",
    "w, b = linear_model.parameters()  # parameters() 함수로 확인 가능\n",
    "w.shape, b.shape"
   ]
  },
  {
   "cell_type": "code",
   "execution_count": 72,
   "id": "2eab1a36",
   "metadata": {},
   "outputs": [],
   "source": [
    "class BasicOptim:\n",
    "    def __init__(self, params, lr):\n",
    "        self.params = list(params)\n",
    "        self.lr = lr\n",
    "        \n",
    "    def step(self, *args, **kwargs):\n",
    "        for p in self.params:\n",
    "            p.data -= p.grad.data * lr\n",
    "            \n",
    "    def zero_grad(self, *args, **kwargs):\n",
    "        for p in self.params:\n",
    "            p.grad = None"
   ]
  },
  {
   "cell_type": "code",
   "execution_count": 73,
   "id": "deb289f2",
   "metadata": {},
   "outputs": [],
   "source": [
    "opt = BasicOptim(params=linear_model.parameters(), lr=lr)"
   ]
  },
  {
   "cell_type": "code",
   "execution_count": 74,
   "id": "c042e4a1",
   "metadata": {},
   "outputs": [],
   "source": [
    "def train_epoch(model):\n",
    "    for xb, yb in dl:\n",
    "        calc_grad(xb, yb, model)\n",
    "        opt.step()\n",
    "        opt.zero_grad()"
   ]
  },
  {
   "cell_type": "code",
   "execution_count": 75,
   "id": "2de9880d",
   "metadata": {},
   "outputs": [
    {
     "data": {
      "text/plain": [
       "0.57"
      ]
     },
     "execution_count": 75,
     "metadata": {},
     "output_type": "execute_result"
    }
   ],
   "source": [
    "validate_epoch(linear_model)"
   ]
  },
  {
   "cell_type": "code",
   "execution_count": 76,
   "id": "a293e3bf",
   "metadata": {},
   "outputs": [],
   "source": [
    "def train_model(model, epochs):\n",
    "    for i in range(epochs):\n",
    "        train_epoch(model)\n",
    "        print(validate_epoch(model), end=\" \")"
   ]
  },
  {
   "cell_type": "code",
   "execution_count": 77,
   "id": "bda6c954",
   "metadata": {},
   "outputs": [
    {
     "name": "stdout",
     "output_type": "stream",
     "text": [
      "0.4932 0.7983 0.8496 0.915 0.9341 0.9492 0.956 0.9623 0.9658 0.9672 0.9702 0.9716 0.9731 0.9741 0.976 0.977 0.9775 0.978 0.978 0.979 "
     ]
    }
   ],
   "source": [
    "train_model(linear_model, 20)"
   ]
  },
  {
   "cell_type": "markdown",
   "id": "11cf02fd",
   "metadata": {},
   "source": [
    "### fastai"
   ]
  },
  {
   "cell_type": "code",
   "execution_count": 78,
   "id": "6941540f",
   "metadata": {},
   "outputs": [
    {
     "name": "stdout",
     "output_type": "stream",
     "text": [
      "0.4932 0.7837 0.8594 0.9184 0.935 0.9516 0.957 0.9638 0.9658 0.9677 0.9697 0.9716 0.9741 0.9751 0.976 0.977 0.9775 0.978 0.9785 0.979 "
     ]
    }
   ],
   "source": [
    "# SGD 클래스\n",
    "linear_model = nn.Linear(28*28, 1)\n",
    "opt = SGD(linear_model.parameters(), lr)\n",
    "train_model(linear_model, 20)"
   ]
  },
  {
   "cell_type": "code",
   "execution_count": 79,
   "id": "0f51a36a",
   "metadata": {},
   "outputs": [],
   "source": [
    "dls = DataLoaders(dl, valid_dl)"
   ]
  },
  {
   "cell_type": "code",
   "execution_count": 80,
   "id": "b38aa2f9",
   "metadata": {},
   "outputs": [],
   "source": [
    "learn = Learner(dls,\n",
    "                nn.Linear(28*28, 1),\n",
    "                opt_func=SGD,\n",
    "                loss_func=mnist_loss,\n",
    "                metrics=batch_accuracy)"
   ]
  },
  {
   "cell_type": "code",
   "execution_count": 81,
   "id": "5b5ea291",
   "metadata": {},
   "outputs": [
    {
     "data": {
      "text/html": [
       "<table border=\"1\" class=\"dataframe\">\n",
       "  <thead>\n",
       "    <tr style=\"text-align: left;\">\n",
       "      <th>epoch</th>\n",
       "      <th>train_loss</th>\n",
       "      <th>valid_loss</th>\n",
       "      <th>batch_accuracy</th>\n",
       "      <th>time</th>\n",
       "    </tr>\n",
       "  </thead>\n",
       "  <tbody>\n",
       "    <tr>\n",
       "      <td>0</td>\n",
       "      <td>0.637160</td>\n",
       "      <td>0.501296</td>\n",
       "      <td>0.495584</td>\n",
       "      <td>00:00</td>\n",
       "    </tr>\n",
       "    <tr>\n",
       "      <td>1</td>\n",
       "      <td>0.294361</td>\n",
       "      <td>0.309878</td>\n",
       "      <td>0.684495</td>\n",
       "      <td>00:00</td>\n",
       "    </tr>\n",
       "    <tr>\n",
       "      <td>2</td>\n",
       "      <td>0.116841</td>\n",
       "      <td>0.155957</td>\n",
       "      <td>0.860157</td>\n",
       "      <td>00:00</td>\n",
       "    </tr>\n",
       "    <tr>\n",
       "      <td>3</td>\n",
       "      <td>0.056637</td>\n",
       "      <td>0.098954</td>\n",
       "      <td>0.917566</td>\n",
       "      <td>00:00</td>\n",
       "    </tr>\n",
       "    <tr>\n",
       "      <td>4</td>\n",
       "      <td>0.034020</td>\n",
       "      <td>0.074308</td>\n",
       "      <td>0.935231</td>\n",
       "      <td>00:00</td>\n",
       "    </tr>\n",
       "    <tr>\n",
       "      <td>5</td>\n",
       "      <td>0.024858</td>\n",
       "      <td>0.060412</td>\n",
       "      <td>0.948479</td>\n",
       "      <td>00:00</td>\n",
       "    </tr>\n",
       "    <tr>\n",
       "      <td>6</td>\n",
       "      <td>0.020888</td>\n",
       "      <td>0.051546</td>\n",
       "      <td>0.956820</td>\n",
       "      <td>00:00</td>\n",
       "    </tr>\n",
       "    <tr>\n",
       "      <td>7</td>\n",
       "      <td>0.018981</td>\n",
       "      <td>0.045551</td>\n",
       "      <td>0.963199</td>\n",
       "      <td>00:00</td>\n",
       "    </tr>\n",
       "    <tr>\n",
       "      <td>8</td>\n",
       "      <td>0.017915</td>\n",
       "      <td>0.041293</td>\n",
       "      <td>0.965653</td>\n",
       "      <td>00:00</td>\n",
       "    </tr>\n",
       "    <tr>\n",
       "      <td>9</td>\n",
       "      <td>0.017210</td>\n",
       "      <td>0.038131</td>\n",
       "      <td>0.966634</td>\n",
       "      <td>00:00</td>\n",
       "    </tr>\n",
       "  </tbody>\n",
       "</table>"
      ],
      "text/plain": [
       "<IPython.core.display.HTML object>"
      ]
     },
     "metadata": {},
     "output_type": "display_data"
    }
   ],
   "source": [
    "learn.fit(10, lr=lr)"
   ]
  },
  {
   "cell_type": "markdown",
   "id": "e33e6bca",
   "metadata": {},
   "source": [
    "## 4.7 비선형성 추가"
   ]
  },
  {
   "cell_type": "code",
   "execution_count": 82,
   "id": "9082a8ac",
   "metadata": {},
   "outputs": [],
   "source": [
    "def simple_net(xb):\n",
    "    res = xb@w1 + b1\n",
    "    res = res.max(tensor(0.0))\n",
    "    res = res@w2 + b2\n",
    "    return res"
   ]
  },
  {
   "cell_type": "code",
   "execution_count": 83,
   "id": "8f58a2f2",
   "metadata": {},
   "outputs": [],
   "source": [
    "w1 = init_params((28*28, 30))\n",
    "b1 = init_params(30)\n",
    "w2 = init_params((30, 1))\n",
    "b2 = init_params(1)"
   ]
  },
  {
   "cell_type": "code",
   "execution_count": 84,
   "id": "ea5633d0",
   "metadata": {},
   "outputs": [
    {
     "data": {
      "text/plain": [
       "tensor([[46.6994],\n",
       "        [30.8781],\n",
       "        [ 8.8109],\n",
       "        ...,\n",
       "        [14.7158],\n",
       "        [54.9547],\n",
       "        [-0.6796]], grad_fn=<AddBackward0>)"
      ]
     },
     "execution_count": 84,
     "metadata": {},
     "output_type": "execute_result"
    }
   ],
   "source": [
    "simple_net(train_x)"
   ]
  },
  {
   "cell_type": "markdown",
   "id": "a8b87bfe",
   "metadata": {},
   "source": [
    "### fastai & torch"
   ]
  },
  {
   "cell_type": "code",
   "execution_count": 85,
   "id": "d3ed2044",
   "metadata": {},
   "outputs": [],
   "source": [
    "simple_net = nn.Sequential(\n",
    "    nn.Linear(28*28, 30),\n",
    "    nn.ReLU(),\n",
    "    nn.Linear(30, 1),\n",
    ")"
   ]
  },
  {
   "cell_type": "code",
   "execution_count": 86,
   "id": "f1275e81",
   "metadata": {},
   "outputs": [],
   "source": [
    "learn = Learner(dls,\n",
    "                simple_net,\n",
    "                opt_func=SGD,\n",
    "                loss_func=mnist_loss,\n",
    "                metrics=batch_accuracy)"
   ]
  },
  {
   "cell_type": "code",
   "execution_count": 87,
   "id": "f55181f1",
   "metadata": {},
   "outputs": [
    {
     "data": {
      "text/html": [
       "<table border=\"1\" class=\"dataframe\">\n",
       "  <thead>\n",
       "    <tr style=\"text-align: left;\">\n",
       "      <th>epoch</th>\n",
       "      <th>train_loss</th>\n",
       "      <th>valid_loss</th>\n",
       "      <th>batch_accuracy</th>\n",
       "      <th>time</th>\n",
       "    </tr>\n",
       "  </thead>\n",
       "  <tbody>\n",
       "    <tr>\n",
       "      <td>0</td>\n",
       "      <td>0.299345</td>\n",
       "      <td>0.413750</td>\n",
       "      <td>0.505397</td>\n",
       "      <td>00:00</td>\n",
       "    </tr>\n",
       "    <tr>\n",
       "      <td>1</td>\n",
       "      <td>0.141985</td>\n",
       "      <td>0.223919</td>\n",
       "      <td>0.813543</td>\n",
       "      <td>00:00</td>\n",
       "    </tr>\n",
       "    <tr>\n",
       "      <td>2</td>\n",
       "      <td>0.079460</td>\n",
       "      <td>0.113410</td>\n",
       "      <td>0.915604</td>\n",
       "      <td>00:00</td>\n",
       "    </tr>\n",
       "    <tr>\n",
       "      <td>3</td>\n",
       "      <td>0.052756</td>\n",
       "      <td>0.076867</td>\n",
       "      <td>0.940137</td>\n",
       "      <td>00:00</td>\n",
       "    </tr>\n",
       "    <tr>\n",
       "      <td>4</td>\n",
       "      <td>0.040263</td>\n",
       "      <td>0.060176</td>\n",
       "      <td>0.958783</td>\n",
       "      <td>00:00</td>\n",
       "    </tr>\n",
       "    <tr>\n",
       "      <td>5</td>\n",
       "      <td>0.033817</td>\n",
       "      <td>0.050822</td>\n",
       "      <td>0.962218</td>\n",
       "      <td>00:00</td>\n",
       "    </tr>\n",
       "    <tr>\n",
       "      <td>6</td>\n",
       "      <td>0.030085</td>\n",
       "      <td>0.044931</td>\n",
       "      <td>0.965653</td>\n",
       "      <td>00:00</td>\n",
       "    </tr>\n",
       "    <tr>\n",
       "      <td>7</td>\n",
       "      <td>0.027647</td>\n",
       "      <td>0.040890</td>\n",
       "      <td>0.967615</td>\n",
       "      <td>00:00</td>\n",
       "    </tr>\n",
       "    <tr>\n",
       "      <td>8</td>\n",
       "      <td>0.025882</td>\n",
       "      <td>0.037945</td>\n",
       "      <td>0.968106</td>\n",
       "      <td>00:00</td>\n",
       "    </tr>\n",
       "    <tr>\n",
       "      <td>9</td>\n",
       "      <td>0.024509</td>\n",
       "      <td>0.035691</td>\n",
       "      <td>0.968597</td>\n",
       "      <td>00:00</td>\n",
       "    </tr>\n",
       "    <tr>\n",
       "      <td>10</td>\n",
       "      <td>0.023393</td>\n",
       "      <td>0.033900</td>\n",
       "      <td>0.971050</td>\n",
       "      <td>00:00</td>\n",
       "    </tr>\n",
       "    <tr>\n",
       "      <td>11</td>\n",
       "      <td>0.022460</td>\n",
       "      <td>0.032433</td>\n",
       "      <td>0.973503</td>\n",
       "      <td>00:00</td>\n",
       "    </tr>\n",
       "    <tr>\n",
       "      <td>12</td>\n",
       "      <td>0.021662</td>\n",
       "      <td>0.031204</td>\n",
       "      <td>0.973503</td>\n",
       "      <td>00:00</td>\n",
       "    </tr>\n",
       "    <tr>\n",
       "      <td>13</td>\n",
       "      <td>0.020972</td>\n",
       "      <td>0.030150</td>\n",
       "      <td>0.975466</td>\n",
       "      <td>00:00</td>\n",
       "    </tr>\n",
       "    <tr>\n",
       "      <td>14</td>\n",
       "      <td>0.020367</td>\n",
       "      <td>0.029231</td>\n",
       "      <td>0.975466</td>\n",
       "      <td>00:00</td>\n",
       "    </tr>\n",
       "    <tr>\n",
       "      <td>15</td>\n",
       "      <td>0.019832</td>\n",
       "      <td>0.028418</td>\n",
       "      <td>0.975466</td>\n",
       "      <td>00:00</td>\n",
       "    </tr>\n",
       "    <tr>\n",
       "      <td>16</td>\n",
       "      <td>0.019354</td>\n",
       "      <td>0.027694</td>\n",
       "      <td>0.976938</td>\n",
       "      <td>00:00</td>\n",
       "    </tr>\n",
       "    <tr>\n",
       "      <td>17</td>\n",
       "      <td>0.018924</td>\n",
       "      <td>0.027042</td>\n",
       "      <td>0.976448</td>\n",
       "      <td>00:00</td>\n",
       "    </tr>\n",
       "    <tr>\n",
       "      <td>18</td>\n",
       "      <td>0.018533</td>\n",
       "      <td>0.026453</td>\n",
       "      <td>0.976938</td>\n",
       "      <td>00:00</td>\n",
       "    </tr>\n",
       "    <tr>\n",
       "      <td>19</td>\n",
       "      <td>0.018176</td>\n",
       "      <td>0.025917</td>\n",
       "      <td>0.976938</td>\n",
       "      <td>00:00</td>\n",
       "    </tr>\n",
       "    <tr>\n",
       "      <td>20</td>\n",
       "      <td>0.017848</td>\n",
       "      <td>0.025429</td>\n",
       "      <td>0.977920</td>\n",
       "      <td>00:00</td>\n",
       "    </tr>\n",
       "    <tr>\n",
       "      <td>21</td>\n",
       "      <td>0.017544</td>\n",
       "      <td>0.024981</td>\n",
       "      <td>0.977920</td>\n",
       "      <td>00:00</td>\n",
       "    </tr>\n",
       "    <tr>\n",
       "      <td>22</td>\n",
       "      <td>0.017263</td>\n",
       "      <td>0.024568</td>\n",
       "      <td>0.978410</td>\n",
       "      <td>00:00</td>\n",
       "    </tr>\n",
       "    <tr>\n",
       "      <td>23</td>\n",
       "      <td>0.017000</td>\n",
       "      <td>0.024188</td>\n",
       "      <td>0.978901</td>\n",
       "      <td>00:00</td>\n",
       "    </tr>\n",
       "    <tr>\n",
       "      <td>24</td>\n",
       "      <td>0.016754</td>\n",
       "      <td>0.023835</td>\n",
       "      <td>0.979882</td>\n",
       "      <td>00:00</td>\n",
       "    </tr>\n",
       "    <tr>\n",
       "      <td>25</td>\n",
       "      <td>0.016522</td>\n",
       "      <td>0.023509</td>\n",
       "      <td>0.979882</td>\n",
       "      <td>00:00</td>\n",
       "    </tr>\n",
       "    <tr>\n",
       "      <td>26</td>\n",
       "      <td>0.016304</td>\n",
       "      <td>0.023205</td>\n",
       "      <td>0.979882</td>\n",
       "      <td>00:00</td>\n",
       "    </tr>\n",
       "    <tr>\n",
       "      <td>27</td>\n",
       "      <td>0.016098</td>\n",
       "      <td>0.022923</td>\n",
       "      <td>0.980864</td>\n",
       "      <td>00:00</td>\n",
       "    </tr>\n",
       "    <tr>\n",
       "      <td>28</td>\n",
       "      <td>0.015902</td>\n",
       "      <td>0.022659</td>\n",
       "      <td>0.980864</td>\n",
       "      <td>00:00</td>\n",
       "    </tr>\n",
       "    <tr>\n",
       "      <td>29</td>\n",
       "      <td>0.015716</td>\n",
       "      <td>0.022413</td>\n",
       "      <td>0.980864</td>\n",
       "      <td>00:00</td>\n",
       "    </tr>\n",
       "    <tr>\n",
       "      <td>30</td>\n",
       "      <td>0.015539</td>\n",
       "      <td>0.022183</td>\n",
       "      <td>0.981354</td>\n",
       "      <td>00:00</td>\n",
       "    </tr>\n",
       "    <tr>\n",
       "      <td>31</td>\n",
       "      <td>0.015370</td>\n",
       "      <td>0.021968</td>\n",
       "      <td>0.981354</td>\n",
       "      <td>00:00</td>\n",
       "    </tr>\n",
       "    <tr>\n",
       "      <td>32</td>\n",
       "      <td>0.015209</td>\n",
       "      <td>0.021766</td>\n",
       "      <td>0.981845</td>\n",
       "      <td>00:00</td>\n",
       "    </tr>\n",
       "    <tr>\n",
       "      <td>33</td>\n",
       "      <td>0.015054</td>\n",
       "      <td>0.021577</td>\n",
       "      <td>0.982336</td>\n",
       "      <td>00:00</td>\n",
       "    </tr>\n",
       "    <tr>\n",
       "      <td>34</td>\n",
       "      <td>0.014906</td>\n",
       "      <td>0.021399</td>\n",
       "      <td>0.982336</td>\n",
       "      <td>00:00</td>\n",
       "    </tr>\n",
       "    <tr>\n",
       "      <td>35</td>\n",
       "      <td>0.014765</td>\n",
       "      <td>0.021232</td>\n",
       "      <td>0.982336</td>\n",
       "      <td>00:00</td>\n",
       "    </tr>\n",
       "    <tr>\n",
       "      <td>36</td>\n",
       "      <td>0.014628</td>\n",
       "      <td>0.021074</td>\n",
       "      <td>0.982336</td>\n",
       "      <td>00:00</td>\n",
       "    </tr>\n",
       "    <tr>\n",
       "      <td>37</td>\n",
       "      <td>0.014497</td>\n",
       "      <td>0.020925</td>\n",
       "      <td>0.982336</td>\n",
       "      <td>00:00</td>\n",
       "    </tr>\n",
       "    <tr>\n",
       "      <td>38</td>\n",
       "      <td>0.014371</td>\n",
       "      <td>0.020783</td>\n",
       "      <td>0.982336</td>\n",
       "      <td>00:00</td>\n",
       "    </tr>\n",
       "    <tr>\n",
       "      <td>39</td>\n",
       "      <td>0.014249</td>\n",
       "      <td>0.020649</td>\n",
       "      <td>0.982336</td>\n",
       "      <td>00:00</td>\n",
       "    </tr>\n",
       "  </tbody>\n",
       "</table>"
      ],
      "text/plain": [
       "<IPython.core.display.HTML object>"
      ]
     },
     "metadata": {},
     "output_type": "display_data"
    }
   ],
   "source": [
    "learn.fit(40, 0.1)"
   ]
  },
  {
   "cell_type": "code",
   "execution_count": 88,
   "id": "a2464995",
   "metadata": {},
   "outputs": [
    {
     "data": {
      "text/plain": [
       "[<matplotlib.lines.Line2D at 0x7f9a7159eb50>]"
      ]
     },
     "execution_count": 88,
     "metadata": {},
     "output_type": "execute_result"
    },
    {
     "data": {
      "image/png": "[encoded data removed]",
      "text/plain": [
       "<Figure size 432x288 with 1 Axes>"
      ]
     },
     "metadata": {
      "needs_background": "light"
     },
     "output_type": "display_data"
    }
   ],
   "source": [
    "plt.plot(L(learn.recorder.values).itemgot(2))  # 2번째 batch_accuracy만 출력"
   ]
  },
  {
   "cell_type": "code",
   "execution_count": 89,
   "id": "f337d620",
   "metadata": {},
   "outputs": [
    {
     "data": {
      "text/plain": [
       "0.98233562707901"
      ]
     },
     "execution_count": 89,
     "metadata": {},
     "output_type": "execute_result"
    }
   ],
   "source": [
    "learn.recorder.values[-1][2]  # 최종 정확도"
   ]
  },
  {
   "cell_type": "markdown",
   "id": "b0d10b70",
   "metadata": {},
   "source": [
    "### 깊은 모델"
   ]
  },
  {
   "cell_type": "code",
   "execution_count": 90,
   "id": "cfbca7e5",
   "metadata": {},
   "outputs": [
    {
     "data": {
      "text/html": [
       "<table border=\"1\" class=\"dataframe\">\n",
       "  <thead>\n",
       "    <tr style=\"text-align: left;\">\n",
       "      <th>epoch</th>\n",
       "      <th>train_loss</th>\n",
       "      <th>valid_loss</th>\n",
       "      <th>accuracy</th>\n",
       "      <th>time</th>\n",
       "    </tr>\n",
       "  </thead>\n",
       "  <tbody>\n",
       "    <tr>\n",
       "      <td>0</td>\n",
       "      <td>0.064107</td>\n",
       "      <td>0.010982</td>\n",
       "      <td>0.998037</td>\n",
       "      <td>00:06</td>\n",
       "    </tr>\n",
       "  </tbody>\n",
       "</table>"
      ],
      "text/plain": [
       "<IPython.core.display.HTML object>"
      ]
     },
     "metadata": {},
     "output_type": "display_data"
    }
   ],
   "source": [
    "dls = ImageDataLoaders.from_folder(path)\n",
    "learn = cnn_learner(dls, resnet18, pretrained=False, loss_func=F.cross_entropy, metrics=accuracy)\n",
    "learn.fit_one_cycle(1, 0.1)"
   ]
  }
 ],
 "metadata": {
  "kernelspec": {
   "display_name": "Python 3",
   "language": "python",
   "name": "python3"
  },
  "language_info": {
   "codemirror_mode": {
    "name": "ipython",
    "version": 3
   },
   "file_extension": ".py",
   "mimetype": "text/x-python",
   "name": "python",
   "nbconvert_exporter": "python",
   "pygments_lexer": "ipython3",
   "version": "3.7.11"
  }
 },
 "nbformat": 4,
 "nbformat_minor": 5
}
